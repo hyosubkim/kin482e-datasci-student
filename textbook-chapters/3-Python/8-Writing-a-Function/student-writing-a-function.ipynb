{
 "cells": [
  {
   "cell_type": "markdown",
   "id": "d406f148-0f44-4135-b1e3-fe89fa9bbb1f",
   "metadata": {},
   "source": [
    "# Writing Functions \n",
    "---"
   ]
  },
  {
   "cell_type": "markdown",
   "id": "ee24197b-78b2-448b-9cb2-6edad0d5d8a5",
   "metadata": {},
   "source": [
    "## Questions:\n",
    "- How can I create my own functions? \n",
    "\n",
    "## Objectives:\n",
    "- Explain and identify the difference between function definition and function call.\n",
    "- Write a function that takes a small, fixed number of arguments and produces a single result.\n",
    "\n",
    "## Keypoints:\n",
    "- Break programs down into functions to make them easier to understand.\n",
    "- Define a function using `def` with a name, parameters, and a block of code.\n",
    "- Defining a function does not run (execute) it.\n",
    "- Arguments in a function call are matched to its defined parameters.\n",
    "- Functions may return a result to their caller using `return`.\n",
    "---"
   ]
  },
  {
   "cell_type": "markdown",
   "id": "ff0ccecc-3915-424f-b932-e27b70c41d04",
   "metadata": {},
   "source": [
    "## Break programs down into functions to make them easier to understand.\n",
    "\n",
    "*   Human beings can only keep a few items in working memory at a time.\n",
    "*   Functions help us simplify complex ideas/tasks by breaking them down into smaller components \n",
    "    *   *Encapsulate* complexity so that we can treat it as a single \"thing\".\n",
    "*   Also enables *re-use*.\n",
    "    *   Write one time, use many times.\n"
   ]
  },
  {
   "cell_type": "markdown",
   "id": "24b2f9ba-b019-4935-be18-9b93b5031a19",
   "metadata": {},
   "source": [
    "Functions are one of the fundamental building blocks of Python programs.  Programs can range from just a handful of lines of code to literally millions of lines of code.  We manage the complexity of data and of problems that we want to solve by \"decomposing them\" (breaking them down) into smaller pieces.  The programs that we design to work with these data and solve problems are similarly decomposed into small functions - each function solving just one of the smaller tasks that make up the problem at hand.\n",
    "\n",
    "Functions also help to avoid duplication of code and can therefore make programs smaller and easier to understand. For example, you may need to perform identical mathematical operations on multiple sets of inputs. You could write these lines multiple times in your program, but this is prone to errors. If you made an error when writing this code, it's likely that the error would be copied into multiple parts of your program. Instead, it's better to define a function that can complete the operation and then call the function each time you need to perform that operation."
   ]
  },
  {
   "cell_type": "markdown",
   "id": "e4bea455-b655-472d-b70b-4bff7f5d0d67",
   "metadata": {},
   "source": [
    "## A motivating example \n",
    "Let's work through a small example.  Suppose we find ourselves repeatedly needing to compute the average of three numbers.  So, at many places in our code, we have expressions like:"
   ]
  },
  {
   "cell_type": "markdown",
   "id": "ef6fe488-efbd-4a63-a24a-32d206d75457",
   "metadata": {},
   "source": [
    "```python\n",
    "(2 + 3 + 4) / 3\n",
    "(-1 + 7 + 5) / 3\n",
    "(2 + 12 + 3) / 3\n",
    "```"
   ]
  },
  {
   "cell_type": "markdown",
   "id": "64813e35-0956-4354-89f9-50154f2f8988",
   "metadata": {},
   "source": [
    "Note that these expressions are similar. They all look like:  \n",
    "\n",
    "$$\\dfrac{(\\alpha + \\beta + \\gamma)}{3}$$  \n",
    "\n",
    "where I've simply used Greek letters as placeholders for numbers. Having identified these placeholders (or \"points of variation\") in the expressions above, we can define a function that takes a value for each of these placeholders as input. In Python, we use `def` to define a new function: "
   ]
  },
  {
   "cell_type": "code",
   "execution_count": null,
   "id": "e0b18147-4103-4686-9dca-f815a90b4d90",
   "metadata": {},
   "outputs": [],
   "source": [
    "def average_of_three(a, b, c):\n",
    "    return (a + b + c) / 3"
   ]
  },
  {
   "cell_type": "markdown",
   "id": "a762b188-0b83-467f-9dff-607c49a9a94f",
   "metadata": {},
   "source": [
    "Here, `a`, `b`, and `c` are called *parameters* - think of a parameter as a kind of variable that is assigned a value when the function is called.  The function body is all the code (in this case, just one line) that is indented after the first.  Note that in this case it returns the average of the values of `a`, `b`, and `c`.\n",
    "\n",
    "We call a function using its name followed by a value for each of the parameters that the function expects:"
   ]
  },
  {
   "cell_type": "markdown",
   "id": "29bbd293-0f80-43ee-b33b-f925db056793",
   "metadata": {},
   "source": [
    "```python\n",
    "average_of_three(-1, 7, 6)\n",
    "```"
   ]
  },
  {
   "cell_type": "markdown",
   "id": "13f137f5-8283-4cf7-9dfa-3b3d38ee065b",
   "metadata": {},
   "source": [
    "When we evaluate this expression, the value -1 is assigned to the parameter `a`, 7 to `b`, and 5 to `c`. We then evaluate the body of the function:"
   ]
  },
  {
   "cell_type": "markdown",
   "id": "dac437a2-86ce-49cf-b1b8-fa5ad3df84e2",
   "metadata": {},
   "source": [
    "```python\n",
    "return (-1 + 7 + 6) / 3\n",
    "```"
   ]
  },
  {
   "cell_type": "markdown",
   "id": "df98c3c9-f6fa-4ad8-b3fb-ada5f8932930",
   "metadata": {},
   "source": [
    "which returns the value 4 to the point in the code at which the function was called.  Note that the body of a function is not evaluated unless the function is called. "
   ]
  },
  {
   "cell_type": "markdown",
   "id": "6089b598-30b5-4bdc-a594-f3358f92ae92",
   "metadata": {},
   "source": [
    "`return` is a special keyword in Python. If there is a value to the right of the keyword, that value is returned to the function's caller. If there is no value to the right of the keyword return, the special value `None` is returned to the function's caller. When a return statement is executed in Python, its value (or None) is returned to the function's caller immediately and no further lines of code in the function are executed.\n",
    "\n",
    "Following the interim summary below, we will review, and expand upon, the above points on writing functions. \n"
   ]
  },
  {
   "cell_type": "markdown",
   "id": "39f34ec9-b2fb-415a-bcd6-96972d4d1404",
   "metadata": {},
   "source": [
    "## Interim Summary: Define a function using `def` with a name, parameters, and a block of code.\n",
    "\n",
    "*   Begin the definition of a new function with `def`.\n",
    "*   Followed by the name of the function.\n",
    "    *   Must obey the same rules as variable names.\n",
    "*   Then *parameters* in parentheses.\n",
    "    *   Empty parentheses if the function doesn't take any inputs.\n",
    "    *   We will discuss this in detail in a moment.\n",
    "*   Then a colon.\n",
    "*   Then an indented block of code."
   ]
  },
  {
   "cell_type": "markdown",
   "id": "e4783daa-19cd-473d-bb61-420eeba17a9d",
   "metadata": {},
   "source": [
    "<div class=\"alert alert-block alert-info\">\n",
    "<b>What's the difference between parameters and arguments?</b> Parameters are the variables listed in the function's definition inside the parentheses. Arguments are the actual values passed to the function. In the average_of_three function definition, a, b, and c are the parameters. The numbers we want to find the average of in average_of_three are the arguments we pass to the function. In everyday usage, however, I find that people often use \"parameter\" and \"argument\" interchangeably and that this is usually not an issue.\n",
    "</div>"
   ]
  },
  {
   "cell_type": "markdown",
   "id": "7c7df2ee-cb40-45d1-86fe-c7df333cffa3",
   "metadata": {},
   "source": [
    "## Defining a function does not run it.\n",
    "\n",
    "*   Defining a function does not run it.\n",
    "    *   Like assigning a value to a variable.\n",
    "*   Must call the function to execute the code it contains."
   ]
  },
  {
   "cell_type": "code",
   "execution_count": null,
   "id": "ec0ee95c-376c-4061-8541-d37d42e7da08",
   "metadata": {},
   "outputs": [],
   "source": [
    "def print_greeting():\n",
    "    print('Hello!')\n",
    "    print('The weather is nice today.')\n",
    "    print('Right?')"
   ]
  },
  {
   "cell_type": "code",
   "execution_count": null,
   "id": "ebfad5da-cef7-4fcd-88e0-3c74e11ea90a",
   "metadata": {},
   "outputs": [],
   "source": [
    "print_greeting()"
   ]
  },
  {
   "cell_type": "markdown",
   "id": "7a9673c2-d8b4-41c4-9871-5676b10ab24f",
   "metadata": {},
   "source": [
    "## Arguments in a function call are matched to its defined parameters.\n",
    "\n",
    "*   Functions are most useful when they can operate on different data.\n",
    "*   Specify *parameters* when defining a function.\n",
    "    *   These become variables when the function is executed.\n",
    "    *   Are assigned the arguments in the call (i.e., the values passed to the function).\n",
    "    *   If you don't name the arguments when using them in the call, the arguments will be matched to\n",
    "parameters in the order the parameters are defined in the function."
   ]
  },
  {
   "cell_type": "code",
   "execution_count": null,
   "id": "2702742c-96ed-494b-ad52-90ed0e165162",
   "metadata": {},
   "outputs": [],
   "source": [
    "def print_date(year, month, day):\n",
    "    joined = str(year) + '/' + str(month) + '/' + str(day)\n",
    "    print(joined)\n",
    "\n",
    "print_date(1871, 3, 19)"
   ]
  },
  {
   "cell_type": "markdown",
   "id": "63a45cf7-340f-4b76-a3f3-649f456bcc42",
   "metadata": {},
   "source": [
    "Or, we can name the arguments when we call the function, which allows us to\n",
    "specify them in any order and adds clarity to the call site; otherwise as\n",
    "one is reading the code they might forget if the second argument is the month\n",
    "or the day for example."
   ]
  },
  {
   "cell_type": "code",
   "execution_count": null,
   "id": "5e48f38e-4a94-46c1-94fd-2c0ffca2b00a",
   "metadata": {},
   "outputs": [],
   "source": [
    "print_date(month=3, day=19, year=1871)"
   ]
  },
  {
   "cell_type": "markdown",
   "id": "a84e536f-f0fc-4093-9fe4-d0d9275e0cfa",
   "metadata": {},
   "source": [
    "*   Via [Twitter](https://twitter.com/minisciencegirl/status/693486088963272705):\n",
    "    `()` contains the ingredients for the function\n",
    "    while the body contains the recipe.\n",
    "\n",
    "## Functions may return a result to their caller using `return`.\n",
    "\n",
    "*   Use `return...` to give a value back to the caller.\n",
    "*   May occur anywhere in the function.\n",
    "*   But functions are easier to understand if `return` occurs:\n",
    "    *   At the start to handle special cases.\n",
    "    *   At the very end, with a final result."
   ]
  },
  {
   "cell_type": "code",
   "execution_count": null,
   "id": "f3e7ffe1-891f-4db0-8a0a-96f8e9c4d01a",
   "metadata": {},
   "outputs": [],
   "source": [
    "def average(values):\n",
    "    if len(values) == 0:\n",
    "        return None\n",
    "    return sum(values) / len(values)"
   ]
  },
  {
   "cell_type": "code",
   "execution_count": null,
   "id": "96ebce77-9503-44e6-b15b-d6ecf6865cf7",
   "metadata": {},
   "outputs": [],
   "source": [
    "a = average([1, 3, 4])\n",
    "print('average of actual values:', a)"
   ]
  },
  {
   "cell_type": "code",
   "execution_count": null,
   "id": "b856066e-0627-418c-b394-5b5ea2f56536",
   "metadata": {},
   "outputs": [],
   "source": [
    "print('average of empty list:', average([]))"
   ]
  },
  {
   "cell_type": "markdown",
   "id": "dc478573-f2c3-4edb-9b80-189c71af0bf7",
   "metadata": {},
   "source": [
    "*   Remember: [every function returns something](http://swcarpentry.github.io/python-novice-gapminder/04-built-in/).\n",
    "*   A function that doesn't explicitly `return` a value automatically returns `None`."
   ]
  },
  {
   "cell_type": "code",
   "execution_count": null,
   "id": "ed42d44d-3c8c-4665-85d6-049ce7d52e46",
   "metadata": {},
   "outputs": [],
   "source": [
    "result = print_date(1871, 3, 19)\n",
    "print('result of call is:', result)"
   ]
  },
  {
   "cell_type": "markdown",
   "id": "98dbe4c4-0104-4120-8f63-3775898ee27f",
   "metadata": {},
   "source": [
    "---\n",
    "# Exercises\n",
    "\n",
    "## Identifying Syntax Errors\n",
    "\n",
    "1. Read the code below and try to identify what the errors are\n",
    "*without* running it.\n",
    "2. Run the code and read the error message.\n",
    "Is it a `SyntaxError` or an `IndentationError`?\n",
    "3. Fix the error.\n",
    "4. Repeat steps 2 and 3 until you have fixed all the errors.\n"
   ]
  },
  {
   "cell_type": "code",
   "execution_count": null,
   "id": "1c7c01e0-90ec-4095-a1a0-e7bbd0a4d3c4",
   "metadata": {},
   "outputs": [],
   "source": [
    "def another_function\n",
    "   print(\"Syntax errors are annoying.\")\n",
    "    print(\"But at least python tells us about them!\")\n",
    "   print(\"So they are usually not too hard to fix.\")"
   ]
  },
  {
   "cell_type": "markdown",
   "id": "0193edae-fc4a-4487-9cbd-bc999b8021d4",
   "metadata": {},
   "source": [
    "## Definition and Use\n",
    "\n",
    "What does the following program print?"
   ]
  },
  {
   "cell_type": "code",
   "execution_count": null,
   "id": "c516164e-5c59-4f8f-aad2-5315c5051972",
   "metadata": {},
   "outputs": [],
   "source": [
    "def report(pressure):\n",
    "    print('pressure is', pressure)\n",
    "\n",
    "print('calling', report, 22.5)"
   ]
  },
  {
   "cell_type": "markdown",
   "id": "fd9dbf09-f08a-4124-8fab-9fd442913b12",
   "metadata": {},
   "source": [
    "Fix the error above and then run the cell below. "
   ]
  },
  {
   "cell_type": "code",
   "execution_count": null,
   "id": "35687928-85db-4768-8889-f7866022a1a3",
   "metadata": {},
   "outputs": [],
   "source": [
    "print(\"calling\")\n",
    "report(22.5)"
   ]
  },
  {
   "cell_type": "markdown",
   "id": "8fd35a11-ec67-4407-bced-82e3d7c3b300",
   "metadata": {},
   "source": [
    "## Order of Operations\n",
    "\n",
    "1. What's wrong in this example?"
   ]
  },
  {
   "cell_type": "code",
   "execution_count": null,
   "id": "74642ff6-68c5-4407-8b42-eefd707b4829",
   "metadata": {},
   "outputs": [],
   "source": [
    "result = print_time(11, 37, 59)\n",
    "\n",
    "def print_time(hour, minute, second):\n",
    "    time_string = str(hour) + ':' + str(minute) + ':' + str(second)\n",
    "    print(time_string)"
   ]
  },
  {
   "cell_type": "markdown",
   "id": "6c98a7a2-efcb-4452-b02f-d1d77bde8af7",
   "metadata": {},
   "source": [
    "2. After fixing the problem above, explain why running this example code gives the output that it does:"
   ]
  },
  {
   "cell_type": "code",
   "execution_count": null,
   "id": "d6186256-3ca7-4cb3-b6f1-01add79f20e5",
   "metadata": {},
   "outputs": [],
   "source": [
    "result = print_time(11, 37, 59)\n",
    "print('result of call is:', result)"
   ]
  },
  {
   "cell_type": "markdown",
   "id": "f974b1ef-ebd1-4190-bf07-e7e139d6ed5e",
   "metadata": {},
   "source": [
    "## Find the First\n",
    "\n",
    "Fill in the blanks to create a function that takes a list of numbers as an argument\n",
    "and returns the first negative value in the list.\n",
    "What does your function do if the list is empty? What if the list has no negative numbers?\n",
    "\n",
    "~~~python\n",
    "def first_negative(values):\n",
    "    for v in ____:\n",
    "        if ____:\n",
    "            return ____\n",
    "~~~"
   ]
  },
  {
   "cell_type": "code",
   "execution_count": null,
   "id": "ab20cb25-5d41-47cd-96c0-05d66cad649b",
   "metadata": {},
   "outputs": [],
   "source": [
    "\n"
   ]
  },
  {
   "cell_type": "markdown",
   "id": "bdb95768-3366-41a3-b20b-772715cf8ff7",
   "metadata": {},
   "source": [
    "## Calling by Name\n",
    "\n",
    "Earlier we saw this function:\n",
    "\n",
    "~~~python\n",
    "def print_date(year, month, day):\n",
    "    joined = str(year) + '/' + str(month) + '/' + str(day)\n",
    "    print(joined)\n",
    "~~~\n",
    "\n",
    "We saw that we can call the function using *named arguments*, like this:\n",
    "~~~python\n",
    "print_date(day=1, month=2, year=2003)\n",
    "~~~\n",
    "\n",
    "1.  What does `print_date(day=1, month=2, year=2003)` print?\n",
    "2.  When and why is it useful to call functions this way?"
   ]
  },
  {
   "cell_type": "markdown",
   "id": "ec46a772-20d8-4a0f-9d55-ea9859f79e00",
   "metadata": {},
   "source": [
    "## Encapsulation of an If/Print Block\n",
    "\n",
    "The code below will run a label-printer for chicken eggs.  A digital scale will report a chicken egg's mass (in grams) \n",
    "to the computer and then the computer will print a label.\n",
    "\n",
    "~~~python\n",
    "import random\n",
    "for i in range(10):\n",
    "\n",
    "    # simulating the mass of a chicken egg\n",
    "    # the (random) mass will be 70 +/- 20 grams\n",
    "    mass = 70 + 20.0 * (2.0 * random.random() - 1.0)\n",
    "\n",
    "    print(mass)\n",
    "\n",
    "    # egg sizing machinery prints a label\n",
    "    if mass >= 85:\n",
    "        print(\"jumbo\")\n",
    "    elif mass >= 70:\n",
    "        print(\"large\")\n",
    "    elif mass < 70 and mass >= 55:\n",
    "        print(\"medium\")\n",
    "    else:\n",
    "        print(\"small\")\n",
    "~~~"
   ]
  },
  {
   "cell_type": "markdown",
   "id": "69fe5676-1030-4190-9f33-fbc0b68f8925",
   "metadata": {},
   "source": [
    "The if-block that classifies the eggs might be useful in other situations,\n",
    "so to avoid repeating it, we could fold it into a function, `get_egg_label()`.\n",
    "Revising the program to use the function would give us this:\n",
    "\n",
    "~~~python\n",
    "# revised version\n",
    "import random\n",
    "for i in range(10):\n",
    "\n",
    "    # simulating the mass of a chicken egg\n",
    "    # the (random) mass will be 70 +/- 20 grams\n",
    "    mass = 70 + 20.0 * (2.0 * random.random() - 1.0)\n",
    "\n",
    "    print(mass, get_egg_label(mass))\n",
    "\n",
    "~~~"
   ]
  },
  {
   "cell_type": "markdown",
   "id": "a4cdaf2e-f164-4901-b72b-8be7c25946d1",
   "metadata": {},
   "source": [
    "1. Create a function definition for `get_egg_label()` that will work with the revised program above.  Note that the `get_egg_label()` function's return value will be important. Sample output from the above program would be `71.23 large`.\n",
    "2. A dirty egg might have a mass of more than 90 grams, and a spoiled or broken egg will probably have a mass that's less than 50 grams.  Modify your `get_egg_label()` function to account for these error conditions. Sample output could be `25 too light, probably spoiled`."
   ]
  },
  {
   "cell_type": "code",
   "execution_count": null,
   "id": "bf05c2ca-4bcb-4c0b-8efb-9285333c6132",
   "metadata": {},
   "outputs": [],
   "source": [
    "# Define get_egg_label() here\n"
   ]
  },
  {
   "cell_type": "markdown",
   "id": "953192ff-0488-41aa-9d84-24833f9616e1",
   "metadata": {},
   "source": [
    "---\n",
    "This chapter has been adapted from [Software Carpentry's Plotting and Programming in Python workshop](\"http://swcarpentry.github.io/python-novice-gapminder/) and materials [UBC's CPSC 103 course](https://vancouver.calendar.ubc.ca/course-descriptions/courses/cpsc-103-introduction-systematic-program-design) as taught by Prof. Meghan Allen.\n"
   ]
  }
 ],
 "metadata": {
  "kernelspec": {
   "display_name": "jupyter_books",
   "language": "python",
   "name": "jupyter_books"
  },
  "language_info": {
   "codemirror_mode": {
    "name": "ipython",
    "version": 3
   },
   "file_extension": ".py",
   "mimetype": "text/x-python",
   "name": "python",
   "nbconvert_exporter": "python",
   "pygments_lexer": "ipython3",
   "version": "3.10.8"
  }
 },
 "nbformat": 4,
 "nbformat_minor": 5
}
