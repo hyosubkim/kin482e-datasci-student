{
 "cells": [
  {
   "cell_type": "markdown",
   "metadata": {},
   "source": [
    "# Variables and Assignment\n",
    "---\n",
    "\n",
    "## Questions\n",
    "- How can I store data in programs?\n",
    "\n",
    "## Learning Objectives\n",
    "- Write programs that assign values to variables and perform calculations with those values.\n",
    "- Correctly trace value changes in programs that use scalar assignment.\n",
    "\n",
    "---"
   ]
  },
  {
   "cell_type": "markdown",
   "metadata": {},
   "source": [
    "## Use variables to store values.\n",
    "\n",
    "*   **Variables** are names for values.\n",
    "*   In Python the `=` symbol **assigns** the value on the right to the name on the left.\n",
    "*   The variable is created when a value is assigned to it.\n",
    "*   Here, Python assigns an age to a variable `age`\n",
    "    and a name in quotes to a variable `first_name`. \n",
    "\n",
    "```python\n",
    "    age = 42\n",
    "    first_name = 'Ahmed'\n",
    "```\n",
    "\n",
    "Type the above two assignment commands into the cell below and run it."
   ]
  },
  {
   "cell_type": "code",
   "execution_count": null,
   "metadata": {
    "collapsed": false,
    "jupyter": {
     "outputs_hidden": false
    }
   },
   "outputs": [],
   "source": []
  },
  {
   "cell_type": "markdown",
   "metadata": {},
   "source": [
    "*   Variable names\n",
    "    * can **only** contain letters, digits, and underscore `_` (typically used to separate words in long variable names)\n",
    "    * cannot start with a digit\n",
    "    * are **case sensitive** (age, Age and AGE are three different variables)\n",
    "*   Variable names that start with underscores like `__aarons_real_age` have a special meaning\n",
    "    so we won't do that until we understand the convention."
   ]
  },
  {
   "cell_type": "markdown",
   "metadata": {},
   "source": [
    "## Use `print` to display values.\n",
    "\n",
    "*   Python has a built-in function called `print` that prints things as text.\n",
    "*   Call the function (i.e., tell Python to run it) by using its name.\n",
    "*   Provide values to the function (i.e., the things to print) in parentheses.\n",
    "*   To add a string to the printout, wrap the string in single or double quotes.\n",
    "*   The values passed to the function are called **arguments**\n",
    "\n",
    "```python\n",
    "print(first_name, 'is', age, 'years old')\n",
    "```"
   ]
  },
  {
   "cell_type": "code",
   "execution_count": null,
   "metadata": {
    "collapsed": false,
    "jupyter": {
     "outputs_hidden": false
    }
   },
   "outputs": [],
   "source": []
  },
  {
   "cell_type": "markdown",
   "metadata": {},
   "source": [
    "*   `print` automatically puts a single space between items to separate them.\n",
    "*   It also wraps around to a new line at the end."
   ]
  },
  {
   "cell_type": "markdown",
   "metadata": {
    "tags": []
   },
   "source": [
    "## *f-strings* in Python\n",
    "\n",
    "- There is an even more convenient way to print strings than shown above.\n",
    "- Python has recently introduced formatted string literals.\n",
    "- Simply include an `f` before the quotes in any `print` statement.\n",
    "- Now, add curly braces containing expressions (e.g., `{my_variable}`; those expressions will then be replaced by their values when printed to the screen.\n",
    "- Removes the need for extraneous quotation marks and commas. \n",
    "\n",
    "```python\n",
    "print(f\"{first_name} is {age} years old\")\n",
    "```"
   ]
  },
  {
   "cell_type": "code",
   "execution_count": null,
   "metadata": {
    "tags": []
   },
   "outputs": [],
   "source": []
  },
  {
   "cell_type": "markdown",
   "metadata": {
    "tags": []
   },
   "source": [
    "<div class=\"alert alert-warning\">\n",
    "    <b>Note:</b> Since f-strings were introduced to Python fairly recently, much of the code you will find on the web and from colleagues does not use them. Therefore, in this class, you'll see a mix of more traditional syntax and f-strings."
   ]
  },
  {
   "cell_type": "markdown",
   "metadata": {},
   "source": [
    "## Use `input` to assign a value to a variable through user input.\n",
    "\n",
    "*   Python has a built-in function called `input` that accepts user input and assigns it to a variable.\n",
    "*   Call the function (i.e., tell Python to run it) by using its name.\n",
    "*   You can request a specfiic user input by wrapping your probe in quotes. \n",
    "*   By default, `input` interprets the user's input as a string, even if numbers are entered.\n"
   ]
  },
  {
   "cell_type": "markdown",
   "metadata": {},
   "source": [
    "```python\n",
    "first_name = input(\"What is your first name?\")\n",
    "age = input(\"How old are you?\")\n",
    "```"
   ]
  },
  {
   "cell_type": "code",
   "execution_count": null,
   "metadata": {},
   "outputs": [],
   "source": []
  },
  {
   "cell_type": "markdown",
   "metadata": {},
   "source": [
    "```python\n",
    "print(first_name, 'is', age, 'years old')\n",
    "```"
   ]
  },
  {
   "cell_type": "code",
   "execution_count": null,
   "metadata": {},
   "outputs": [],
   "source": []
  },
  {
   "cell_type": "markdown",
   "metadata": {},
   "source": [
    "```python\n",
    "print(f\"{first_name} is {age} years old.\")\n",
    "```"
   ]
  },
  {
   "cell_type": "code",
   "execution_count": null,
   "metadata": {},
   "outputs": [],
   "source": []
  },
  {
   "cell_type": "markdown",
   "metadata": {},
   "source": [
    "## Variables must be created before they are used.\n",
    "\n",
    "*   If a variable doesn't exist yet, or if the name has been mis-spelled,\n",
    "    Python reports an error. (Unlike some languages, which \"guess\" a default value.)\n",
    "\n",
    "```python\n",
    "print(last_name)\n",
    "```"
   ]
  },
  {
   "cell_type": "code",
   "execution_count": null,
   "metadata": {
    "collapsed": false,
    "jupyter": {
     "outputs_hidden": false
    }
   },
   "outputs": [],
   "source": []
  },
  {
   "cell_type": "markdown",
   "metadata": {},
   "source": [
    "*   The last line of an error message is usually the most informative.\n",
    "*   We will look at error messages in detail later.\n",
    "\n",
    "## Variables persist between cells\n",
    "\n",
    "Be aware that it is the *order of execution* of cells that is important in a Jupyter notebook, not the order in which they appear. Python will remember *all* the code that was run previously, including any variables you have defined, irrespective of the order in the notebook. Therefore if you define variables lower down the notebook and then (re)run cells further up, those defined further down will still be present. As an example, create two cells with the following content, in this order:\n",
    "\n",
    "**First cell:**\n",
    "```python\n",
    "print(myval)\n",
    "```\n",
    "\n",
    "**Second cell:**\n",
    "```python\n",
    "myval = 1\n",
    "```"
   ]
  },
  {
   "cell_type": "code",
   "execution_count": null,
   "metadata": {
    "collapsed": false,
    "jupyter": {
     "outputs_hidden": false
    }
   },
   "outputs": [],
   "source": []
  },
  {
   "cell_type": "code",
   "execution_count": null,
   "metadata": {
    "collapsed": false,
    "jupyter": {
     "outputs_hidden": false
    }
   },
   "outputs": [],
   "source": []
  },
  {
   "cell_type": "markdown",
   "metadata": {},
   "source": [
    "If you execute this in order, the first cell will give an error. However, if you run the first cell *after* the second cell it will print out `1`. It's possible to drag 'n drop cells in CoCalc, to reorder them.\n",
    "\n",
    "If you start to get confused about what order you've run cells in, it can be helpful to use the `Kernel` -`Restart & Run All` menu option which clears the interpreter and runs everything from a clean slate going top to bottom."
   ]
  },
  {
   "cell_type": "markdown",
   "metadata": {},
   "source": [
    "## Variables can be used in calculations.\n",
    "\n",
    "*   We can use variables in calculations just as if they were values.\n",
    "    *   Remember, we assigned the value `42` to `age` a few lines ago.\n",
    "\n",
    "```python\n",
    "age = int(age) + 3\n",
    "print('Age in three years:', age)\n",
    "```"
   ]
  },
  {
   "cell_type": "code",
   "execution_count": null,
   "metadata": {},
   "outputs": [],
   "source": []
  },
  {
   "cell_type": "markdown",
   "metadata": {
    "jupyter": {
     "outputs_hidden": false
    }
   },
   "source": [
    "What's with the call to `int`? You'll soon learn about *data types* and why they matter. "
   ]
  },
  {
   "cell_type": "markdown",
   "metadata": {},
   "source": [
    "## Python is case-sensitive.\n",
    "\n",
    "*   Python thinks that upper- and lower-case letters are different,\n",
    "    so `Name` and `name` are different variables. You can prove this by running `print(Age)` in the cell below.\n",
    "*   There are conventions for using upper-case letters at the start of variable names— they should only be used in specific circumstances in Python —  so **it is good practice to only use lower-case letters for variable names**\n"
   ]
  },
  {
   "cell_type": "code",
   "execution_count": null,
   "metadata": {
    "collapsed": false,
    "jupyter": {
     "outputs_hidden": false
    }
   },
   "outputs": [],
   "source": []
  },
  {
   "cell_type": "markdown",
   "metadata": {},
   "source": [
    "## Use meaningful variable names.\n",
    "\n",
    "*   Python doesn't care what you call variables as long as they obey the rules\n",
    "    (alphanumeric characters and the underscore).\n",
    "\n",
    "~~~python\n",
    "flabadab = 42\n",
    "ewr_422_yY = 'Ahmed'\n",
    "print(ewr_422_yY, 'is', flabadab, 'years old')\n",
    "~~~"
   ]
  },
  {
   "cell_type": "code",
   "execution_count": null,
   "metadata": {
    "collapsed": false,
    "jupyter": {
     "outputs_hidden": false
    }
   },
   "outputs": [],
   "source": []
  },
  {
   "cell_type": "markdown",
   "metadata": {},
   "source": [
    "*   However, if you use meaningful variable names, you help other people (and your future self!) understand what the program does"
   ]
  },
  {
   "cell_type": "markdown",
   "metadata": {},
   "source": [
    "## A word about expressions and the order of operations\n",
    "\n",
    "An expression is a piece of code that represents a value. If we are dealing with numerical expressions, the algebraic precedence rules from arithmetic apply. A simple mnemonic for those rules is \"PEDMAS\", which stands for:\n",
    "- (P)arentheses, then\n",
    "- (E)xponents, then\n",
    "- (D)ivision or (M)ultiplication (both have equal precedence, and so the order is determined left to right), then\n",
    "- (A)ddition or (S)ubtraction (both have equal precedence, and so the order is determined left to right)\n",
    "\n",
    "So, for example:\n",
    "\n",
    "```python\n",
    "2 + 5 * 7\n",
    "```\n",
    "is equivalent to:\n",
    "```python\n",
    "2 + 35\n",
    "``` \n",
    "*not*\n",
    "```python\n",
    "7 * 7\n",
    "```\n",
    "*BUT*\n",
    "```python\n",
    "(2 + 5) * 7\n",
    "```\n",
    "evaluates to:\n",
    "```python\n",
    "7 * 7\n",
    "```\n",
    "\n",
    "Exponents are indicated by the exponent \\(**) operator:\n",
    "```python\n",
    "2**3\n",
    "```\n",
    "is equivalent to 2^3 and thus equals 8.\n"
   ]
  },
  {
   "cell_type": "markdown",
   "metadata": {},
   "source": [
    "### Translating equations into Python\n",
    "\n",
    "Another thing to keep in mind when writing mathematical expressions is that, while you will see many equations in textbooks, websites, papers, etc. that use square brackets, like in this equation:\n",
    "$$y = \\left[\\frac{x}{(1-z)}\\right] + \\left[\\frac{x^2}{\\frac{1}{x^2}+z}\\right]$$  \n",
    "\n",
    "In Python, round parentheses [brackets] (i.e., `( )`) are used for equations. Square brackets are used for lists and indexing (locating an item or items in a data container). So, the above equation, could be written as follows in Python:\n",
    "\n",
    "```python\n",
    "y = (x / (1 - z)) + (x**2 / (1 / x**2 + z))\n",
    "```"
   ]
  },
  {
   "cell_type": "code",
   "execution_count": null,
   "metadata": {},
   "outputs": [],
   "source": [
    "# Assign some arbitrary values to x and z and then evaluate your expression.\n"
   ]
  },
  {
   "cell_type": "markdown",
   "metadata": {},
   "source": [
    "## Basic Python data types\n",
    "\n",
    "So far we have seen two basic Python data types: Integer and String. There is another basic data type, Boolean. Boolean variables can only have the values of either `True` or `False`. (Remember, Python is case-sensitive, so be careful of your spelling.) We can define variables to be of type boolean by setting their value accordingly. Boolean variables are a good way of coding anything that has a binary range (eg: yes/no), because it's a type that computers know how to work with as we will see soon.\n",
    "\n",
    "```python\n",
    "print(True)\n",
    "print(False)\n",
    "bool_val_t = True\n",
    "print(type(bool_val_t))\n",
    "print(bool_val_t)\n",
    "bool_val_f = False\n",
    "print(type(bool_val_f))\n",
    "print(bool_val_f)\n",
    "```"
   ]
  },
  {
   "cell_type": "code",
   "execution_count": null,
   "metadata": {},
   "outputs": [],
   "source": [
    "\n"
   ]
  },
  {
   "cell_type": "markdown",
   "metadata": {},
   "source": [
    "The following two lines of code will generate an error because Python is case-sensitive. We need to use 'True' instead of 'true' and 'False' instead of 'false'."
   ]
  },
  {
   "cell_type": "code",
   "execution_count": null,
   "metadata": {},
   "outputs": [],
   "source": [
    "print(true)\n",
    "print(false)"
   ]
  },
  {
   "cell_type": "markdown",
   "metadata": {},
   "source": [
    "We can also get values of Boolean type using comparison operators, basic ones in Python are `==` for \"equal to\", `!=` for \"not equal to\", and `>`, `<`, or `>=`, `<=`.\n",
    "\n",
    "```python\n",
    "print('hello' == 'HELLO')\n",
    "print(3 != 77)\n",
    "print(1 < 2)\n",
    "print('four' > 'three')\n",
    "```"
   ]
  },
  {
   "cell_type": "code",
   "execution_count": null,
   "metadata": {},
   "outputs": [],
   "source": []
  },
  {
   "cell_type": "markdown",
   "metadata": {
    "tags": []
   },
   "source": [
    "<div class=\"alert alert-block alert-info\">\n",
    "    <h3>Style note:</h3>\n",
    "    \n",
    "Although Python allows you to use virtually any characters in variable names, there are style conventions that you should learn and follow. Python PEP 8](https://www.python.org/dev/peps/pep-0008/#naming-conventions) (PEPs are the \"Python Enhancement Proposals\" that provide standards for the language) specifies that regular variables \"should be lowercase, with words separated by underscores as necessary to improve readability\". \n",
    "    \n",
    "So, **you should only use lower-case letters**in variable names. This is because upper-case letters are used for specific purposes in Python. As well, if your variable name is more than one word (such as `first_name`), you should use underscores to separate the words. This naming convention is called **snake case**.\n",
    "    \n",
    "You may encounter different conventions as standard in other programming languages (or in examples of Python that don't properly follow style conventions), such as [**camel case**](https://en.wikipedia.org/wiki/Camel_case) which would be `FirstName` or possibly `firstName` (for the aficionados: the first is is a sub-type of camel case called **Pascal case**, while the second is **dromedary case**). \n",
    "    \n",
    "There is a good reason for following these conventions: when a seasoned Python programmer sees something in camel case, they will expect it to be a class or type variable, not a regular variable. Following Python's conventions thus improves the readability, sharability, and transparency of code.\n",
    "</div>"
   ]
  },
  {
   "cell_type": "markdown",
   "metadata": {},
   "source": [
    "---\n",
    "# Exercises\n",
    "\n",
    "## What's in a name?\n",
    "\n",
    "Which is a better variable name, `m`, `min`, or `minutes`? Why? (Hint: think about which code you would rather inherit from someone who is leaving the lab):\n",
    "```python\n",
    "ts = m * 60 + s\n",
    "tot_sec = min * 60 + sec\n",
    "total_seconds = minutes * 60 + seconds\n",
    "```"
   ]
  },
  {
   "cell_type": "markdown",
   "metadata": {},
   "source": [
    "## Variables only change value when something is assigned to them\n",
    "\n",
    "*   If we make one cell in a spreadsheet depend on another, and update the latter, the former updates automatically\n",
    "*   This does **not** happen in programming languages\n",
    "\n",
    "~~~python\n",
    "first = 1\n",
    "second = 5 * first\n",
    "first = 2\n",
    "print('first is', first, 'and second is', second)\n",
    "~~~"
   ]
  },
  {
   "cell_type": "code",
   "execution_count": null,
   "metadata": {
    "collapsed": false,
    "jupyter": {
     "outputs_hidden": false
    }
   },
   "outputs": [],
   "source": []
  },
  {
   "cell_type": "markdown",
   "metadata": {},
   "source": [
    "*   The computer reads the value of `first` when doing the multiplication,\n",
    "    creates a new value, and assigns it to `second`.\n",
    "*   After that, `second` does not remember where it came from."
   ]
  },
  {
   "cell_type": "markdown",
   "metadata": {},
   "source": [
    "## Swapping Values\n",
    "\n",
    "Try to follow what happens in the following sequence of commands. Guess what the final values of `x` and `y` will be, then run the code yourself to check your guess.\n",
    "\n",
    "~~~python\n",
    "x = 1.0   \n",
    "y = 3.0    \n",
    "swap = x  \n",
    "x = y      \n",
    "y = swap \n",
    "~~~"
   ]
  },
  {
   "cell_type": "code",
   "execution_count": null,
   "metadata": {
    "collapsed": false,
    "jupyter": {
     "outputs_hidden": false
    }
   },
   "outputs": [],
   "source": []
  },
  {
   "cell_type": "markdown",
   "metadata": {},
   "source": [
    "These three lines exchange the values in `x` and `y` using the `swap`\n",
    "variable for temporary storage. This is a fairly common programming idiom.\n"
   ]
  },
  {
   "cell_type": "markdown",
   "metadata": {},
   "source": [
    "---\n",
    "## Key Points Summary:\n",
    "- Use variables to store values\n",
    "- Use `print` to display values\n",
    "- Variables persist between cells\n",
    "- Variables must be created before they are used\n",
    "- Variables can be used in calculations\n",
    "- Python is case-sensitive\n",
    "- Variables only change value when something is assigned to them\n",
    "- Use meaningful variable names\n",
    "- Use only lower-case letters, separated by underscores, in variable names"
   ]
  },
  {
   "cell_type": "markdown",
   "metadata": {},
   "source": [
    "---\n",
    "This section was adapted from the [Software Carpentry](https://software-carpentry.org/lessons/) [Plotting and Programming in Python](http://swcarpentry.github.io/python-novice-gapminder/) workshop, Aaron J. Newman's [Data Science for Psychology and Neuroscience - in Python](https://neuraldatascience.io/intro.html) and [Meghan Allen's](https://www.cs.ubc.ca/people/meghan-allen) CPSC 103 course at UBC, which contributed to the section on evaluating expressions."
   ]
  },
  {
   "cell_type": "code",
   "execution_count": null,
   "metadata": {},
   "outputs": [],
   "source": []
  }
 ],
 "metadata": {
  "kernelspec": {
   "display_name": "Python 3 (ipykernel)",
   "language": "python",
   "name": "python3"
  },
  "language_info": {
   "codemirror_mode": {
    "name": "ipython",
    "version": 3
   },
   "file_extension": ".py",
   "mimetype": "text/x-python",
   "name": "python",
   "nbconvert_exporter": "python",
   "pygments_lexer": "ipython3",
   "version": "3.9.13"
  }
 },
 "nbformat": 4,
 "nbformat_minor": 4
}
