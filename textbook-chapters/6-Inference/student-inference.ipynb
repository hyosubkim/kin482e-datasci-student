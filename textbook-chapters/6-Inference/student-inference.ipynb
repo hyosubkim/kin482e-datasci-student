{
 "cells": [
  {
   "cell_type": "markdown",
   "id": "207cdf16-35d2-4fc8-a2f4-1f138969823e",
   "metadata": {},
   "source": [
    "# Statistical inference\n",
    "\n",
    "*This chapter has been adapted from [Data Science: A First Introduction (Python Edition)](https://python.datasciencebook.ca/inference.html), by Trevor Campbell, Tiffany Timbers, Melissa Lee, Lindsey Heagy, and Joel Ostblom of UBC.*\n",
    "\n",
    "## Overview\n",
    "\n",
    "A typical data analysis task in practice is to draw conclusions about some\n",
    "unknown aspect of a population of interest based on observed data sampled from\n",
    "that population; we typically do not get data on the *entire* population.  Data\n",
    "analysis questions regarding how summaries, patterns, trends, or relationships\n",
    "in a data set extend to the wider population are called *inferential\n",
    "questions*. This chapter will start with the fundamental ideas of sampling from\n",
    "populations and then introduce two common techniques in statistical inference:\n",
    "*point estimation* and *interval estimation*.\n",
    "\n",
    "## Chapter learning objectives\n",
    "\n",
    "By the end of the chapter, readers will be able to do the following:\n",
    "\n",
    "* Describe real-world examples of questions that can be answered with statistical inference.\n",
    "* Define common population parameters (e.g., mean, proportion, standard deviation) that are often estimated using sampled data, and estimate these from a sample.\n",
    "* Define the following statistical sampling terms (population, sample, population parameter, point estimate, sampling distribution).\n",
    "* Explain the difference between a population parameter and a sample point estimate.\n",
    "* Use Python to draw random samples from a finite population.\n",
    "* Use Python to create a sampling distribution from a finite population.\n",
    "* Describe how sample size influences the sampling distribution.\n",
    "* Define bootstrapping.\n",
    "* Use Python to create a bootstrap distribution to approximate a sampling distribution.\n",
    "* Contrast the bootstrap and sampling distributions."
   ]
  },
  {
   "cell_type": "markdown",
   "id": "adda1dc1-7567-4e81-a25d-8f487dcda312",
   "metadata": {},
   "source": [
    "## Why do we need sampling?\n",
    "\n",
    "We often need to understand how quantities we observe in a subset\n",
    "of data relate to the same quantities in the broader population. For example, suppose a\n",
    "retailer is considering selling iPhone accessories, and they want to estimate\n",
    "how big the market might be. Additionally, they want to strategize how they can\n",
    "market their products on North American college and university campuses. This\n",
    "retailer might formulate the following question:\n",
    "\n",
    "*What proportion of all undergraduate students in North America own an iPhone?*\n",
    "\n",
    "In the above question, we are interested in making a conclusion about *all*\n",
    "undergraduate students in North America; this is referred to as the **population**. In\n",
    "general, the population is the complete collection of individuals or cases we\n",
    "are interested in studying.  Further, in the above question, we are interested\n",
    "in computing a quantity&mdash;the proportion of iPhone owners&mdash;based on\n",
    "the entire population. This proportion is referred to as a **population parameter**. In\n",
    "general, a population parameter is a numerical characteristic of the entire\n",
    "population. To compute this number in the example above, we would need to ask\n",
    "every single undergraduate in North America whether they own an iPhone. In\n",
    "practice, directly computing population parameters is often time-consuming and\n",
    "costly, and sometimes impossible.\n",
    "\n",
    "A more practical approach would be to make measurements from a **sample**, i.e., a\n",
    "subset of individuals collected from the population. We can then compute a\n",
    "**sample estimate**&mdash;a numerical characteristic of the sample&mdash;that\n",
    "estimates the population parameter. For example, suppose we randomly selected\n",
    "ten undergraduate students across North America (the sample) and computed the\n",
    "proportion of those students who own an iPhone (the sample estimate). In that\n",
    "case, we might suspect that proportion is a reasonable estimate of the\n",
    "proportion of students who own an iPhone in the entire population.\n",
    "The figure below illustrates this process.\n",
    "In general, the process of using a sample to make a conclusion about the\n",
    "broader population from which it is taken is referred to as **statistical inference**."
   ]
  },
  {
   "cell_type": "markdown",
   "id": "8f553a49-fbdf-42fa-93de-fee90eaa2a40",
   "metadata": {},
   "source": [
    "![](img/inference/population_vs_sample.png)"
   ]
  },
  {
   "cell_type": "markdown",
   "id": "05ff3b75-da9c-4109-8da2-bee593f8e5af",
   "metadata": {},
   "source": [
    "Note that proportions are not the *only* kind of population parameter we might\n",
    "be interested in. For example, suppose an undergraduate student studying at the University\n",
    "of British Columbia in Canada is looking for an apartment\n",
    "to rent. They need to create a budget, so they want to know something about\n",
    "studio apartment rental prices in Vancouver, BC. This student might\n",
    "formulate the following question:\n",
    "\n",
    "*What is the average price-per-month of studio apartment rentals in Vancouver, Canada?*\n",
    "\n",
    "In this case, the population consists of all studio apartment rentals in Vancouver, and the\n",
    "population parameter is the *average price-per-month*. Here we used the average\n",
    "as a measure of the center to describe the \"typical value\" of studio apartment\n",
    "rental prices. But even within this one example, we could also be interested in\n",
    "many other population parameters. For instance, we know that not every studio\n",
    "apartment rental in Vancouver will have the same price per month. The student\n",
    "might be interested in how much monthly prices vary and want to find a measure\n",
    "of the rentals' spread (or variability), such as the standard deviation. Or perhaps the\n",
    "student might be interested in the fraction of studio apartment rentals that\n",
    "cost more than \\$1000 per month. The question we want to answer will help us\n",
    "determine the parameter we want to estimate. If we were somehow able to observe\n",
    "the whole population of studio apartment rental offerings in Vancouver, we\n",
    "could compute each of these numbers exactly; therefore, these are all\n",
    "population parameters. There are many kinds of observations and population\n",
    "parameters that you will run into in practice, but in this chapter, we will\n",
    "focus on two settings:\n",
    "\n",
    "1. Using categorical observations to estimate the proportion of a category\n",
    "2. Using quantitative observations to estimate the average (or mean)"
   ]
  },
  {
   "cell_type": "markdown",
   "id": "00d262c1-a56a-437d-a416-3423f4b0e911",
   "metadata": {},
   "source": [
    "## Sampling distributions\n",
    "\n",
    "### Sampling distributions for proportions\n",
    "\n",
    "We will look at an example using data from\n",
    "[Inside Airbnb](http://insideairbnb.com/). Airbnb is an online\n",
    "marketplace for arranging vacation rentals and places to stay. The data set\n",
    "contains listings for Vancouver, Canada, in September 2020. Our data\n",
    "includes an ID number, neighborhood, type of room, the number of people the\n",
    "rental accommodates, number of bathrooms, bedrooms, beds, and the price per\n",
    "night."
   ]
  },
  {
   "cell_type": "code",
   "execution_count": null,
   "id": "4a3de52c-0ab5-45ca-ab52-a0231105c21b",
   "metadata": {},
   "outputs": [],
   "source": [
    "# Start off with standard imports\n",
    "import matplotlib.pyplot as plt\n",
    "import numpy as np\n",
    "import pandas as pd\n",
    "import seaborn as sns\n",
    "\n",
    "sns.set_theme()"
   ]
  },
  {
   "cell_type": "code",
   "execution_count": null,
   "id": "5d33d1fc-e01d-4ffa-bc9d-457b37cf6452",
   "metadata": {},
   "outputs": [],
   "source": [
    "# Read in data\n",
    "airbnb = pd.read_csv(\"data/listings.csv\")\n",
    "airbnb"
   ]
  },
  {
   "cell_type": "markdown",
   "id": "77488024-2414-4c76-bba1-80aff86772a3",
   "metadata": {},
   "source": [
    "Suppose the city of Vancouver wants information about Airbnb rentals to help\n",
    "plan city bylaws, and they want to know how many Airbnb places are listed as\n",
    "entire homes and apartments (rather than as private or shared rooms). Therefore\n",
    "they may want to estimate the true proportion of all Airbnb listings where the\n",
    "room type is listed as \"entire home or apartment.\" Of course, we usually\n",
    "do not have access to the true population, but here let's imagine (for learning\n",
    "purposes) that our data set represents the population of all Airbnb rental\n",
    "listings in Vancouver, Canada.\n",
    "We can find the proportion of listings for each room type\n",
    "by using the `value_counts` function with the `normalize` parameter. `value_counts` returns a Series object containing counts of unique values, and `normalize`, if set to True,  will normalize these counts and convert them to proportions. "
   ]
  },
  {
   "cell_type": "code",
   "execution_count": null,
   "id": "721e45e5-ee49-417d-908d-e2b5e8a6653d",
   "metadata": {},
   "outputs": [],
   "source": [
    "airbnb[\"room_type\"].value_counts(normalize=True)"
   ]
  },
  {
   "cell_type": "markdown",
   "id": "c4cb5767-730d-45fe-a325-6fd661a3b05c",
   "metadata": {},
   "source": [
    "We can see that the proportion of `Entire home/apt` listings in\n",
    "the data set is 0.747. This\n",
    "value, 0.747, is the population parameter. **Remember, this\n",
    "parameter value is usually unknown in real data analysis problems, *as it is\n",
    "typically not possible to make measurements for an entire population.***\n",
    "\n",
    "Instead, perhaps we can approximate it with a small subset of data!\n",
    "To investigate this idea, let's try randomly selecting 40 listings (*i.e.,* taking a random sample of\n",
    "size 40 from our population), and computing the proportion for that sample.\n",
    "We will use the `sample` method of the `pandas.DataFrame`\n",
    "object to take the sample. The argument `n` of `sample` is the size of the sample to take\n",
    "and since we are starting to use randomness here,\n",
    "we are also setting the random seed via numpy to make the results reproducible. Setting the seed means that our program's random number generator will output the same sequence of \"random\" numbers each time we run this program. (You can Google \"why random number generators aren't random\" if you're interested in this apparent paradox). "
   ]
  },
  {
   "cell_type": "code",
   "execution_count": null,
   "id": "c3081578-c741-4fe6-8eb8-bb13f7784d8b",
   "metadata": {},
   "outputs": [],
   "source": [
    "# Set seed for reproducible results\n",
    "np.random.seed(155)\n",
    "airbnb.sample(n=40)[\"room_type\"].value_counts(normalize=True)"
   ]
  },
  {
   "cell_type": "markdown",
   "id": "8c085f27-5a03-4dc6-872e-9efda2bcafda",
   "metadata": {},
   "source": [
    "Here we see that the proportion of entire home/apartment listings in this\n",
    "random sample is 0.725. Wow&mdash;that's close to our\n",
    "true population value! But remember, we computed the proportion using a random sample of size 40.\n",
    "This has two consequences. First, this value is only an *estimate*, i.e., our best guess\n",
    "of our population parameter using this sample.\n",
    "Given that we are estimating a single value here, we often\n",
    "refer to it as a **point estimate**.  Second, since the sample was random,\n",
    "if we were to take *another* random sample of size 40 and compute the proportion for that sample,\n",
    "we would not get the same answer:"
   ]
  },
  {
   "cell_type": "code",
   "execution_count": null,
   "id": "9f185127-5641-4396-bb04-d977e6c0c082",
   "metadata": {},
   "outputs": [],
   "source": [
    "airbnb.sample(n=40)[\"room_type\"].value_counts(normalize=True)"
   ]
  },
  {
   "cell_type": "markdown",
   "id": "d7cc2299-b3b9-47d8-8c4e-2ad30e09aed0",
   "metadata": {},
   "source": [
    "Confirmed! We get a different value for our estimate this time.\n",
    "That means that our point estimate might be unreliable. Indeed, estimates vary from sample to\n",
    "sample due to **sampling variability**. But just how much\n",
    "should we expect the estimates of our random samples to vary?\n",
    "Or in other words, how much can we really trust our point estimate based on a single sample?\n",
    "\n",
    "To understand this, we will simulate many samples (much more than just two)\n",
    "of size 40 from our population of listings and calculate the proportion of\n",
    "entire home/apartment listings in each sample. This simulation will create\n",
    "many sample proportions, which we can visualize using a histogram. The\n",
    "distribution of the estimate for all possible samples of a given size (which we\n",
    "commonly refer to as $n$) from a population is called\n",
    "a **sampling distribution**. The sampling distribution will help us see how much we would\n",
    "expect our sample proportions from this population to vary for samples of size 40.\n",
    "\n",
    "We again use the `sample` to take samples of size 40 from our\n",
    "population of Airbnb listings. But this time we use a list comprehension\n",
    "to repeat an operation multiple time (as in previous chapters).\n",
    "In this case we are taking 20,000 samples of size 40\n",
    "and to make it clear which rows in the data frame come\n",
    "which of the 20,000 samples,\n",
    "we also add (\"assign\") a column called `replicate` with this information.\n",
    "The call to `concat` concatenates all the 20,000 data frames\n",
    "returned from the list comprehension into a single big data frame."
   ]
  },
  {
   "cell_type": "code",
   "execution_count": null,
   "id": "3dd0049c-2bd9-44f2-a5b8-8a665d985fef",
   "metadata": {},
   "outputs": [],
   "source": [
    "# Use list comprehension \n",
    "samples = pd.concat([\n",
    "    airbnb.sample(40).assign(replicate=n) for n in range(20000)\n",
    "])\n",
    "samples"
   ]
  },
  {
   "cell_type": "markdown",
   "id": "5cf05271-ad97-43ef-a053-9511c27ee200",
   "metadata": {},
   "source": [
    "Since the column `replicate` indicates the replicate/sample number,\n",
    "we can verify that we indeed seem to have 20,0000 samples\n",
    "starting at sample 0 and ending at sample 19,999.\n",
    "\n",
    "Now that we have obtained the samples, we need to compute the\n",
    "proportion of entire home/apartment listings in each sample.\n",
    "We first `query` the observations with room type of \"Entire home/apt\";\n",
    "group the data by the `replicate` variable&mdash;to group the\n",
    "set of listings in each sample together&mdash;and then use `count`\n",
    "to compute the number of qualified observations in each sample; finally compute the proportion.\n",
    "Both the first and last few entries of the resulting data frame are printed\n",
    "below to show that we end up with 20,000 point estimates, one for each of the 20,000 samples."
   ]
  },
  {
   "cell_type": "code",
   "execution_count": null,
   "id": "7e0e95da-3506-4881-b9f0-853060899a64",
   "metadata": {},
   "outputs": [],
   "source": [
    "samples.groupby(\"replicate\")[\"room_type\"].value_counts(normalize=True)"
   ]
  },
  {
   "cell_type": "markdown",
   "id": "e570f179-3fac-4f0a-b013-bcd9ae3f1034",
   "metadata": {},
   "source": [
    "The returned object is a series,\n",
    "and as we have previously learned\n",
    "we can use `reset_index` to change it to a data frame.\n",
    "However,\n",
    "there is one caveat here:\n",
    "when we use the `value_counts` function\n",
    "on a grouped series and try to `reset_index`\n",
    "we will end up with two columns with the same name\n",
    "and therefore get an error\n",
    "(in this case, `room_type` will occur twice).\n",
    "Fortunately,\n",
    "there is a simple solution:\n",
    "when we call `reset_index`,\n",
    "we can specify the name of the new column\n",
    "with the `name` parameter:"
   ]
  },
  {
   "cell_type": "code",
   "execution_count": null,
   "id": "6e156e1a-9d8d-42db-a6b6-31e22789ffb9",
   "metadata": {},
   "outputs": [],
   "source": [
    "samples.groupby(\"replicate\")[\"room_type\"].value_counts(normalize=True).reset_index(name=\"sample_proportion\")"
   ]
  },
  {
   "cell_type": "markdown",
   "id": "d67c8687-80a5-4be1-a0d6-ecbe227f50db",
   "metadata": {},
   "source": [
    "Below we put everything together\n",
    "and also filter the data frame to keep only the room types \n",
    "that we are interested in."
   ]
  },
  {
   "cell_type": "code",
   "execution_count": null,
   "id": "b23452e9-de1e-4da3-b5bf-c6f8e0f352fd",
   "metadata": {},
   "outputs": [],
   "source": [
    "sample_estimates = (\n",
    "    samples\n",
    "    .groupby(\"replicate\")\n",
    "    [\"room_type\"]\n",
    "    .value_counts(normalize=True)\n",
    "    .reset_index(name=\"sample_proportion\")\n",
    ")\n",
    "\n",
    "sample_estimates = sample_estimates[sample_estimates[\"room_type\"] == \"Entire home/apt\"]\n",
    "sample_estimates"
   ]
  },
  {
   "cell_type": "markdown",
   "id": "23897941-20e9-434f-9b40-095491abd05f",
   "metadata": {},
   "source": [
    "We can now visualize the sampling distribution of sample proportions\n",
    "for samples of size 40 using a histogram. Keep in mind: in the real world,\n",
    "we don't have access to the full population. So we\n",
    "can't take many samples and can't actually construct or visualize the sampling distribution.\n",
    "We have created this particular example\n",
    "such that we *do* have access to the full population, which lets us visualize the\n",
    "sampling distribution directly for learning purposes."
   ]
  },
  {
   "cell_type": "code",
   "execution_count": null,
   "id": "0bbc70c6-22d3-41d8-a6f1-7f483b77e901",
   "metadata": {},
   "outputs": [],
   "source": [
    "fig, ax = plt.subplots()\n",
    "sns.histplot(data=sample_estimates, x=\"sample_proportion\", ax=ax, binwidth=0.05)\n",
    "ax.set_xlabel(\"Sample proportions\")\n",
    "fig.suptitle(\"Sampling distribution of the sample proportion for sample size 40\", fontsize=16)\n",
    "plt.show()"
   ]
  },
  {
   "cell_type": "markdown",
   "id": "a33d28c9-e9cd-4a15-a56a-e3c23740c4a2",
   "metadata": {},
   "source": [
    "The sampling distribution above appears\n",
    "to be bell-shaped, is roughly symmetric, and has one peak. It is centered\n",
    "around 0.75 and the sample proportions\n",
    "range from about 0.55 to about\n",
    "0.95. In fact, we can\n",
    "calculate the mean of the sample proportions."
   ]
  },
  {
   "cell_type": "code",
   "execution_count": null,
   "id": "c40d8452-1ffe-4b49-a037-0cf68f046bf8",
   "metadata": {},
   "outputs": [],
   "source": [
    "sample_estimates[\"sample_proportion\"].mean()"
   ]
  },
  {
   "cell_type": "markdown",
   "id": "76f28638-ebc5-4ff3-85da-daf31096de34",
   "metadata": {},
   "source": [
    "We notice that the sample proportions are centered around the population\n",
    "proportion value,0.748! In general, the mean of\n",
    "the sampling distribution should be equal to the population proportion.\n",
    "This is great news because it means that the sample proportion is neither an overestimate nor an\n",
    "underestimate of the population proportion.\n",
    "In other words, if you were to take many samples as we did above, there is no tendency\n",
    "towards over or underestimating the population proportion.\n",
    "In a real data analysis setting where you just have access to your single\n",
    "sample, this implies that you would suspect that your sample point estimate is\n",
    "roughly equally likely to be above or below the true population proportion."
   ]
  },
  {
   "cell_type": "markdown",
   "id": "7285ac92-29d0-4f14-8fb9-6956cdad2848",
   "metadata": {},
   "source": [
    "### Sampling distributions for means\n",
    "\n",
    "In the previous section, our variable of interest&mdash;`room_type`&mdash;was\n",
    "*categorical*, and the population parameter was a proportion. As mentioned in\n",
    "the chapter introduction, there are many choices of the population parameter\n",
    "for each type of variable. What if we wanted to infer something about a\n",
    "population of *quantitative* variables instead? For instance, a traveler\n",
    "visiting Vancouver, Canada may wish to estimate the\n",
    "population *mean* (or average) price per night of Airbnb listings. Knowing\n",
    "the average could help them tell whether a particular listing is overpriced.\n",
    "We can visualize the population distribution of the price per night with a histogram."
   ]
  },
  {
   "cell_type": "code",
   "execution_count": null,
   "id": "e94c6425-49c7-4090-b666-c9c00fca80f9",
   "metadata": {},
   "outputs": [],
   "source": [
    "g = sns.displot(data=airbnb, x=\"price\", bins=np.linspace(0, 1050, 22))\n",
    "g.set(xlabel=\"Price per night (dollars)\", title=\"Population distribution of price per night\")\n",
    "plt.show()"
   ]
  },
  {
   "cell_type": "markdown",
   "id": "fde95e22-d63d-439b-8e9a-c2bd7544c7c9",
   "metadata": {},
   "source": [
    "In this figure, we see that the population distribution\n",
    "has one peak. It is also skewed (i.e., is not symmetric): most of the listings are\n",
    "less than \\$250 per night, but a small number of listings cost much more,\n",
    "creating a long tail on the histogram's right side.\n",
    "Along with visualizing the population, we can calculate the population mean,\n",
    "the average price per night for all the Airbnb listings."
   ]
  },
  {
   "cell_type": "code",
   "execution_count": null,
   "id": "bb1e424f-b165-46ee-9b4f-630a4dae8ada",
   "metadata": {},
   "outputs": [],
   "source": [
    "airbnb[\"price\"].mean()"
   ]
  },
  {
   "cell_type": "markdown",
   "id": "75d5340b-38fd-4326-a307-5b468bd4986a",
   "metadata": {},
   "source": [
    "The price per night of all Airbnb rentals in Vancouver, BC\n",
    "is $154.51, on average. This value is our\n",
    "population parameter since we are calculating it using the population data.\n",
    "\n",
    "Now suppose we did not have access to the population data (which is nearly *always* the\n",
    "case!), yet we wanted to estimate the mean price per night. We could answer\n",
    "this question by taking a random sample of as many Airbnb listings as our time\n",
    "and resources allow. Let's say we could do this for 40 listings. What would\n",
    "such a sample look like?  Let's take advantage of the fact that we do have\n",
    "access to the population data and simulate taking one random sample of 40\n",
    "listings in Python, again using `sample`."
   ]
  },
  {
   "cell_type": "code",
   "execution_count": null,
   "id": "6ed5f5f7-0348-4aa2-a19c-b3db1f8b677d",
   "metadata": {},
   "outputs": [],
   "source": [
    "one_sample = airbnb.sample(40)"
   ]
  },
  {
   "cell_type": "markdown",
   "id": "d00eed4c-91b9-462d-8f55-34ebb09ac4e0",
   "metadata": {},
   "source": [
    "We can create a histogram to visualize the distribution of observations in the\n",
    "sample, and calculate the mean\n",
    "of our sample."
   ]
  },
  {
   "cell_type": "code",
   "execution_count": null,
   "id": "b5802386-cdf9-4a2e-94b8-7cd9c9b78e0d",
   "metadata": {},
   "outputs": [],
   "source": [
    "g = sns.displot(data=one_sample, x=\"price\", bins=np.linspace(0, 750, 17))\n",
    "g.set(xlabel=\"Price per night (dollars)\")\n",
    "plt.show()"
   ]
  },
  {
   "cell_type": "code",
   "execution_count": null,
   "id": "ba750858-95fa-4784-ac0f-849d765b0880",
   "metadata": {},
   "outputs": [],
   "source": [
    "one_sample[\"price\"].mean()"
   ]
  },
  {
   "cell_type": "markdown",
   "id": "fb41997f-1bb0-4412-978a-fedb8b6d7cde",
   "metadata": {},
   "source": [
    "The average value of the sample of size 40\n",
    "is \\\\$152.48. This\n",
    "number is a point estimate for the mean of the full population.\n",
    "Recall that the population mean was\n",
    "\\\\$154.51. So our estimate was fairly close to\n",
    "the population parameter: the mean was about\n",
    "0.7%\n",
    "off.  Note that we usually cannot compute the estimate's accuracy in practice\n",
    "since we do not have access to the population parameter; if we did, we wouldn't\n",
    "need to estimate it!\n",
    "\n",
    "\n",
    "Also, recall from the previous section that the point estimate can vary; if we\n",
    "took another random sample from the population, our estimate's value might\n",
    "change. So then, did we just get lucky with our point estimate above?  How much\n",
    "does our estimate vary across different samples of size 40 in this example?\n",
    "Again, since we have access to the population, we can take many samples and\n",
    "plot the sampling distribution of sample means to get a sense for this variation.\n",
    "In this case, we'll use the 20,000 samples of size\n",
    "40 that we already stored in the `samples` variable.\n",
    "First we will calculate the sample mean for each replicate\n",
    "and then plot the sampling\n",
    "distribution of sample means for samples of size 40."
   ]
  },
  {
   "cell_type": "code",
   "execution_count": null,
   "id": "975da884-e70a-41a3-a269-874149ee785c",
   "metadata": {},
   "outputs": [],
   "source": [
    "sample_estimates = (\n",
    "    samples\n",
    "    .groupby(\"replicate\")\n",
    "    [\"price\"]\n",
    "    .mean()\n",
    "    .reset_index()\n",
    "    .rename(columns={\"price\": \"mean_price\"})\n",
    ")\n",
    "sample_estimates"
   ]
  },
  {
   "cell_type": "code",
   "execution_count": null,
   "id": "9d2acf7e-19f2-40ca-981f-4f8d9a7f9968",
   "metadata": {},
   "outputs": [],
   "source": [
    "sns.displot(data=sample_estimates, x=\"mean_price\", bins=30)\n",
    "plt.xlabel('Sample mean price per night (dollars)')\n",
    "plt.ylabel('Count')\n",
    "plt.show()"
   ]
  },
  {
   "cell_type": "markdown",
   "id": "08b8d2fa-13a4-465c-9d57-4f1ae09dd6cc",
   "metadata": {},
   "source": [
    "In the figure above, the sampling distribution of the mean\n",
    "has one peak and is bell-shaped. Most of the estimates are between\n",
    "about  \\\\$140 and\n",
    "\\\\$160; but there are\n",
    "a good fraction of cases outside this range (i.e., where the point estimate was\n",
    "not close to the population parameter). So it does indeed look like we were\n",
    "quite lucky when we estimated the population mean with only\n",
    "0.7% error.\n",
    "\n",
    "Let's visualize the population distribution, distribution of the sample, and\n",
    "the sampling distribution on one plot to compare them. Comparing these three distributions, the centers\n",
    "of the distributions are all around the same price (around \\$150). The original\n",
    "population distribution has a long right tail, and the sample distribution has\n",
    "a similar shape to that of the population distribution. However, the sampling\n",
    "distribution is not shaped like the population or sample distribution. Instead,\n",
    "it has a bell shape, and it has a lower spread than the population or sample\n",
    "distributions. The sample means vary less than the individual observations\n",
    "because there will be some high values and some small values in any random\n",
    "sample, which will keep the average from being too extreme."
   ]
  },
  {
   "cell_type": "code",
   "execution_count": null,
   "id": "ffcd15fb-bdc8-4b8e-b35f-eb5e85db7218",
   "metadata": {},
   "outputs": [],
   "source": [
    "# Set up mutli-panel figure\n",
    "fig, axs = plt.subplots(3, 1, figsize=(8, 12))\n",
    "\n",
    "# Population distribution\n",
    "sns.histplot(airbnb['price'], bins=np.arange(0, 661, 20), ax=axs[0])\n",
    "axs[0].set_title('Population')\n",
    "axs[0].set_xlabel('Price per night (dollars)')\n",
    "axs[0].set_ylabel('Count')\n",
    "\n",
    "# Sample distribution\n",
    "sns.histplot(one_sample['price'], bins=np.arange(0, 661, 20), ax=axs[1])\n",
    "axs[1].set_title('Sample (n = 40)')\n",
    "axs[1].set_xlabel('Price per night (dollars)')\n",
    "axs[1].set_ylabel('Count')\n",
    "\n",
    "# Sampling distribution\n",
    "sns.histplot(sample_estimates['mean_price'], bins=np.arange(0, 661, 20), ax=axs[2])\n",
    "axs[2].set_title('Sampling distribution of the mean (samples of size 40)')\n",
    "axs[2].set_xlabel('Price per night (dollars)')\n",
    "axs[2].set_ylabel('Count')\n",
    "\n",
    "fig.suptitle(\"Comparison of population distribution, sample distribution, and sampling distribution\")\n",
    "\n",
    "plt.tight_layout()\n",
    "plt.show()\n"
   ]
  },
  {
   "cell_type": "markdown",
   "id": "5e119b8a-ace6-472e-90c9-f2293a20f17d",
   "metadata": {},
   "source": [
    "Given that there is quite a bit of variation in the sampling distribution of\n",
    "the sample mean&mdash;i.e., the point estimate that we obtain is not very\n",
    "reliable&mdash;is there any way to improve the estimate?  One way to improve a\n",
    "point estimate is to take a *larger* sample. To illustrate what effect this\n",
    "has, we will take many samples of size 20, 50, 100, and 500, and plot the\n",
    "sampling distribution of the sample mean. We indicate the mean of the sampling\n",
    "distribution with a orange vertical line."
   ]
  },
  {
   "cell_type": "code",
   "execution_count": null,
   "id": "a4206294-0f1e-4272-bc58-23dd142c0245",
   "metadata": {},
   "outputs": [],
   "source": [
    "# Plot sampling distributions for multiple sample sizes\n",
    "sample_sizes = [20, 50, 100, 500]\n",
    "replicates = 20000\n",
    "\n",
    "base = pd.concat([\n",
    "    pd.concat([\n",
    "        airbnb.sample(sample_size).assign(sample_size=sample_size, replicate=replicate)\n",
    "        for sample_size in sample_sizes\n",
    "    ])\n",
    "    for replicate in range(replicates)\n",
    "]).groupby([\"sample_size\", \"replicate\"], as_index=False)[\"price\"].mean()\n"
   ]
  },
  {
   "cell_type": "code",
   "execution_count": null,
   "id": "5cb9c0f7-525d-466e-84b9-2762113268d5",
   "metadata": {},
   "outputs": [],
   "source": [
    "# Set up subplots \n",
    "fig, axs = plt.subplots(nrows=4, ncols=1, figsize=(6, 12), sharex=True, sharey='row', gridspec_kw={'hspace': 0.3})\n",
    "\n",
    "# Iterate through sample sizes\n",
    "for i, sample_size in enumerate([20, 50, 100, 500]):\n",
    "    ax = axs[i]\n",
    "\n",
    "    # Plot histogram\n",
    "    sns.histplot(data=base.loc[base['sample_size']==sample_size, 'price'],\n",
    "                 bins=30, ax=ax)\n",
    "\n",
    "    # Plot mean line\n",
    "    mean_price = base.loc[base['sample_size'] == sample_size, 'price'].mean()\n",
    "    ax.axvline(x=mean_price, color=\"#f58518\", linestyle='--', linewidth=2)\n",
    "\n",
    "    # Annotate mean value\n",
    "    ax.text(mean_price + 5, 2500, f'Mean = {mean_price:.2f}', color=\"#f58518\", size=12, fontweight='bold')\n",
    "\n",
    "    # Set axis labels and title\n",
    "    ax.set_ylim([0, 2800])\n",
    "    ax.set_ylabel(\"Count\")\n",
    "    ax.set_title(f\"Sample Size = {sample_size}\")\n",
    "\n",
    "# Set common x-axis label\n",
    "axs[-1].set_xlabel(\"Sample mean price per night (dollars)\")\n",
    "\n",
    "# Plot\n",
    "plt.show()"
   ]
  },
  {
   "cell_type": "markdown",
   "id": "5a20ea17-f7d2-432c-b0f7-b103af3e4ac0",
   "metadata": {},
   "source": [
    "Based on the visualization above, three points\n",
    "about the sample mean become clear:\n",
    "\n",
    "1. The mean of the sample mean (across\n",
    "   samples) is equal to the population mean. In other words, the sampling\n",
    "   distribution is centered at the population mean.\n",
    "2. Increasing the size of\n",
    "   the sample decreases the spread (i.e., the variability) of the sampling\n",
    "   distribution. Therefore, a larger sample size results in a more reliable point\n",
    "   estimate of the population parameter.\n",
    "3. The distribution of the sample mean is roughly bell-shaped."
   ]
  },
  {
   "cell_type": "markdown",
   "id": "8e9abd37-8f89-40a2-9522-9ea9cf2e809e",
   "metadata": {},
   "source": [
    "<div class=\"alert alert-block alert-info\">\n",
    "    <b>Note:</b> You might notice that in the <b>n = 20</b> case in this figure,\n",
    "    the distribution is not <i>quite</i> bell-shaped. There is a bit of skew towards the right!\n",
    "    You might also notice that in the <b>n = 50</b> case and larger, that skew seems to disappear.\n",
    "In general, the sampling distribution&mdash;for both means and proportions&mdash;only\n",
    "    becomes bell-shaped <i>once the sample size is large enough</i>.\n",
    "How large is \"large enough?\" Unfortunately, it depends entirely on the problem at hand. But\n",
    "as a rule of thumb, often a sample size of at least 20 will suffice.\n",
    "                            </div>"
   ]
  },
  {
   "cell_type": "markdown",
   "id": "2929dba1-645a-4204-902e-dc4078f76343",
   "metadata": {},
   "source": [
    "### Summary\n",
    "\n",
    "1. A point estimate is a single value computed using a sample from a population (e.g., a mean or proportion).\n",
    "2. The sampling distribution of an estimate is the distribution of the estimate for all possible samples of a fixed size from the same population.\n",
    "3. The shape of the sampling distribution is usually bell-shaped with one peak and centered at the population mean or proportion.\n",
    "4. The spread of the sampling distribution is related to the sample size. As the sample size increases, the spread of the sampling distribution decreases."
   ]
  },
  {
   "cell_type": "markdown",
   "id": "1d674ec4-4c09-4ebd-90ae-273e87062c45",
   "metadata": {},
   "source": [
    "## Bootstrapping\n",
    "\n",
    "### Overview\n",
    "\n",
    "*Why all this emphasis on sampling distributions?*\n",
    "\n",
    "We saw in the previous section that we could compute a **point estimate** of a\n",
    "population parameter using a sample of observations from the population. And\n",
    "since we constructed examples where we had access to the population, we could\n",
    "evaluate how accurate the estimate was, and even get a sense of how much the\n",
    "estimate would vary for different samples from the population.  But in real\n",
    "data analysis settings, we usually have *just one sample* from our population\n",
    "and do not have access to the population itself. Therefore we cannot construct\n",
    "the sampling distribution as we did in the previous section. And as we saw, our\n",
    "sample estimate's value can vary significantly from the population parameter.\n",
    "So reporting the point estimate from a single sample alone may not be enough.\n",
    "*We also need to report some notion of *uncertainty* in the value of the point\n",
    "estimate.*\n",
    "\n",
    "Unfortunately, we cannot construct the exact sampling distribution without\n",
    "full access to the population. However, if we could somehow *approximate* what\n",
    "the sampling distribution would look like for a sample, we could\n",
    "use that approximation to then report how uncertain our sample\n",
    "point estimate is (as we did above with the *exact* sampling\n",
    "distribution). There are several methods to accomplish this; in this book, we\n",
    "will use the *bootstrap*. We will discuss **interval estimation** and\n",
    "construct\n",
    "**confidence intervals** using just a single sample from a population. A\n",
    "confidence interval is a range of plausible values for our population parameter.\n",
    "\n",
    "Here is the key idea. First, if you take a big enough sample, it *looks like*\n",
    "the population. Notice the histograms' shapes for samples of different sizes\n",
    "taken from the population in the figure below. We\n",
    "see that the sample’s distribution looks like that of the population for a\n",
    "large enough sample."
   ]
  },
  {
   "cell_type": "code",
   "execution_count": null,
   "id": "a77ef9eb-df58-4b3f-a295-bd2ebe323167",
   "metadata": {},
   "outputs": [],
   "source": [
    "# Plot sample distributions for n = 10, 20, 50, 100, 200\n",
    "sample_sizes = [10, 20, 50, 100, 200]\n",
    "\n",
    "# Set up subplots\n",
    "fig, axs = plt.subplots(nrows=3, ncols=2, figsize=(12, 9))\n",
    "fig.suptitle('Distribution of Prices in Airbnb Samples')\n",
    "\n",
    "# Plot population distribution\n",
    "sns.histplot(airbnb['price'], bins=range(0, 601, 20), ax=axs[2, 1])\n",
    "axs[2, 1].set_title('Population Distribution')\n",
    "axs[2, 1].set_xlabel('Price per night (dollars)')\n",
    "axs[2, 1].set_ylabel('Count')\n",
    "\n",
    "# Plot sample distributions for different sample sizes\n",
    "for i, sample_n in enumerate(sample_sizes):\n",
    "    sample = airbnb.sample(sample_n)\n",
    "    ax = axs[i % 3, i // 3]\n",
    "    sns.histplot(sample['price'], bins=range(0, 601, 20), ax=ax)\n",
    "    ax.set_title(f'n = {sample_n}')\n",
    "    ax.set_xlabel('Price per night (dollars)')\n",
    "    ax.set_ylabel('Count')\n",
    "\n",
    "# Adjust layout\n",
    "plt.tight_layout(rect=[0, 0, 1, 0.96])\n",
    "plt.show()"
   ]
  },
  {
   "cell_type": "markdown",
   "id": "c16e399a-ff2b-4042-b8e8-f317af759b77",
   "metadata": {},
   "source": [
    "In the previous section, we took many samples of the same size *from our\n",
    "population* to get a sense of the variability of a sample estimate. But if our\n",
    "sample is big enough that it looks like our population, we can pretend that our\n",
    "sample *is* the population, and take more samples (with replacement) of the\n",
    "same size from it instead! This very clever technique is\n",
    "called **the bootstrap**.  Note that by taking many samples from our single, observed\n",
    "sample, we do not obtain the true sampling distribution, but rather an\n",
    "approximation that we call **the bootstrap distribution**."
   ]
  },
  {
   "cell_type": "markdown",
   "id": "64fc9c39-39e3-47fd-80ff-f4efe1df9b37",
   "metadata": {},
   "source": [
    "<div class=\"alert alert-info\">\n",
    "    <b>Note:</b> We must sample <i>with</i> replacement when using the bootstrap.\n",
    "    Otherwise, if we had a sample of size <b>n</b>, and obtained a sample from it of\n",
    "    size <b>n</b> <i>without</i> replacement, it would just return our original sample!\n",
    "</div>"
   ]
  },
  {
   "cell_type": "markdown",
   "id": "9e4add32-7d33-4f9c-962e-5b8082ecc479",
   "metadata": {},
   "source": [
    "This section will explore how to create a bootstrap distribution from a single\n",
    "sample using Python.  The process is visualized in the flow chart below.\n",
    "For a sample of size $n$, you would do the following:\n",
    "\n",
    "1. Randomly select an observation from the original sample (e.g., 9 Airbnb listings, 15 individuals post-stroke, 20 healthy young adults, etc.), which was drawn from the population (all Vancouver Airbnb listings, all Canadian adults post-stroke, all healthy, neurotypical adults between the ages of 18-35 across the globe, etc.).\n",
    "2. Record the observation's value.\n",
    "3. Replace that observation.\n",
    "4. Repeat steps 1&ndash;3 (sampling *with* replacement) until you have $n$ observations, which form a bootstrap sample.\n",
    "5. Calculate the bootstrap point estimate (e.g., mean, median, proportion, slope, etc.) of the $n$ observations in your bootstrap sample.\n",
    "6. Repeat steps 1&ndash;5 many times to create a distribution of point estimates (the bootstrap distribution).\n",
    "7. Calculate the plausible range of values around our observed point estimate.\n",
    "\n",
    "![](img/inference/intro-bootstrap.jpeg)"
   ]
  },
  {
   "cell_type": "markdown",
   "id": "48dc0973-0905-4291-ad97-a872b7cce843",
   "metadata": {},
   "source": [
    "### Bootstrapping in Python\n",
    "\n",
    "Let’s continue working with our Airbnb example to illustrate how we might create\n",
    "and use a bootstrap distribution using just a single sample from the population.\n",
    "Once again, suppose we are\n",
    "interested in estimating the population mean price per night of all Airbnb\n",
    "listings in Vancouver, Canada, using a single sample size of 40.\n",
    "Recall our point estimate was \\\\$153.48. The\n",
    "histogram of prices in the sample is displayed in the figure below."
   ]
  },
  {
   "cell_type": "code",
   "execution_count": null,
   "id": "9404fd36-5d77-4078-943a-ee6c26332817",
   "metadata": {},
   "outputs": [],
   "source": [
    "one_sample"
   ]
  },
  {
   "cell_type": "code",
   "execution_count": null,
   "id": "e100113d-a4f5-42c0-a7ec-653e3e13eae3",
   "metadata": {},
   "outputs": [],
   "source": [
    "g = sns.displot(data=one_sample, x=\"price\", bins=np.linspace(0, 750, 17))\n",
    "g.set(xlabel=\"Price per night (dollars)\")\n",
    "plt.show()"
   ]
  },
  {
   "cell_type": "markdown",
   "id": "d4310ce0-c63a-4189-b4bd-4cd6a87ad04a",
   "metadata": {},
   "source": [
    "The histogram for the sample is skewed, with a few observations out to the right. The\n",
    "mean of the sample is \\\\$154.51.\n",
    "Remember, in practice, we usually only have this one sample from the population. So\n",
    "this sample and estimate are the only data we can work with.\n",
    "\n",
    "We now perform steps 1&ndash;5 listed above to generate a single bootstrap\n",
    "sample in Python and calculate a point estimate from that bootstrap sample. We will\n",
    "continue using the `sample` function of our dataframe,\n",
    "Critically, note that we now\n",
    "set `frac=1` (\"fraction\") to indicate that we want to draw as many samples as there are rows in the dataframe\n",
    "(we could also have set `n=40` but then we would need to manually keep track of how many rows there are).\n",
    "Since we need to sample with replacement when bootstrapping,\n",
    "we change the `replace` parameter to `True`."
   ]
  },
  {
   "cell_type": "code",
   "execution_count": null,
   "id": "d755b269-eb53-4ca3-9b71-cb460b710235",
   "metadata": {},
   "outputs": [],
   "source": [
    "boot1 = one_sample.sample(frac=1, replace=True)\n",
    "g = sns.displot(data=boot1, x=\"price\", bins=np.arange(20, 321, 10))\n",
    "g.set(title=\"Single bootstrap sample\", \n",
    "     xlabel=\"Price per night (dollars)\")\n",
    "plt.show()\n"
   ]
  },
  {
   "cell_type": "code",
   "execution_count": null,
   "id": "d73fc943-158d-4ab7-af01-382b15e2d819",
   "metadata": {},
   "outputs": [],
   "source": [
    "boot1[\"price\"].mean()"
   ]
  },
  {
   "cell_type": "markdown",
   "id": "b0325f50-192d-442a-97f2-7b35f0a86105",
   "metadata": {},
   "source": [
    "Notice that the histogram of our bootstrap sample\n",
    "has a similar shape to the original sample histogram. Though the shapes of\n",
    "the distributions are similar, they are not identical. You'll also notice that\n",
    "the original sample mean and the bootstrap sample mean differ. How might that\n",
    "happen? Remember that we are sampling with replacement from the original\n",
    "sample, so we don't end up with the same sample values again. We are *pretending*\n",
    "that our single sample is close to the population, and we are trying to\n",
    "mimic drawing another sample from the population by drawing one from our original\n",
    "sample.\n",
    "\n",
    "Let's now take 20,000 bootstrap samples from the original sample (`one_sample`)\n",
    "and calculate the means for\n",
    "each of those replicates. Recall that this assumes that `one_sample` *looks like*\n",
    "our original population; but since we do not have access to the population itself,\n",
    "this is often the best we can do.\n",
    "Note that here we break the list comprehension over multiple lines\n",
    "so that it is easier to read."
   ]
  },
  {
   "cell_type": "code",
   "execution_count": null,
   "id": "2804f5f7-6cce-434a-a624-9dc5599c9a62",
   "metadata": {},
   "outputs": [],
   "source": [
    "boot20000 = pd.concat([\n",
    "    one_sample.sample(frac=1, replace=True).assign(replicate=n)\n",
    "    for n in range(20000)\n",
    "])\n",
    "boot20000"
   ]
  },
  {
   "cell_type": "markdown",
   "id": "b103e81b-b0df-4170-96d7-f5c3d75cf1ac",
   "metadata": {},
   "source": [
    "Let's take a look at histograms of the first six replicates of our bootstrap samples."
   ]
  },
  {
   "cell_type": "code",
   "execution_count": null,
   "id": "f2df05cf-4090-4926-8065-0b1904130031",
   "metadata": {},
   "outputs": [],
   "source": [
    "six_bootstrap_samples = boot20000.query(\"replicate < 6\")\n",
    "\n",
    "# Create a seaborn FacetGrid object (allows for subplots)\n",
    "g = sns.FacetGrid(six_bootstrap_samples, col=\"replicate\", col_wrap=2, height=4)\n",
    "\n",
    "# Plot histograms for each replicate\n",
    "g.map(plt.hist, \"price\", bins=np.arange(0, 701, 50))\n",
    "\n",
    "# Set axis labels and title\n",
    "g.set_axis_labels(\"Price per night (dollars)\", \"Count\")\n",
    "g.set_titles(col_template=\"Replicate {col_name}\")\n",
    "\n",
    "# Label figure\n",
    "g.fig.suptitle(\"Histograms of first six replicates of bootstrap samples\")\n",
    "\n",
    "# Adjust layout\n",
    "plt.tight_layout()\n",
    "plt.show()"
   ]
  },
  {
   "cell_type": "markdown",
   "id": "d55ebd46-cb83-49b1-b1d7-55524c164ec3",
   "metadata": {},
   "source": [
    "We can see how the distributions of the\n",
    "bootstrap samples differ. If we calculate the sample mean for each of\n",
    "these six samples, we can see that these are also different between samples.\n",
    "To compute the mean for each sample,\n",
    "we first group by the \"replicate\" which is the column containing the sample/replicate number.\n",
    "Then we compute the mean of the `price` column and rename it to `mean_price`\n",
    "for it to be more descriptive.\n",
    "Finally we use `reset_index` to get the `replicate` values back as a column in the dataframe. (Note that for readability, you can enclose your Python expression in parentheses so that you can break up your expression across multiple lines.)"
   ]
  },
  {
   "cell_type": "code",
   "execution_count": null,
   "id": "aec2cf5e-81ca-45eb-9f85-25a5cd133b17",
   "metadata": {},
   "outputs": [],
   "source": [
    "(\n",
    "    six_bootstrap_samples\n",
    "    .groupby(\"replicate\")\n",
    "    [\"price\"]\n",
    "    .mean()\n",
    "    .reset_index()\n",
    "    .rename(columns={\"price\": \"mean_price\"})\n",
    ")\n"
   ]
  },
  {
   "cell_type": "markdown",
   "id": "9511f243-6e4c-4a00-9a33-d404cc65b8e9",
   "metadata": {},
   "source": [
    "The distributions and the means differ between the bootstrapped samples\n",
    "because we are sampling *with replacement*.\n",
    "If we instead would have sampled *without replacement*,\n",
    "we would end up with the exact same values in the sample each time.\n",
    "\n",
    "We will now calculate point estimates of the mean for our 20,000 bootstrap samples and\n",
    "generate a bootstrap distribution of these point estimates. The bootstrap\n",
    "distribution (figure below) suggests how we might expect\n",
    "our point estimate to behave if we take multiple samples."
   ]
  },
  {
   "cell_type": "code",
   "execution_count": null,
   "id": "30f05e8d-e59c-42e9-b52c-616104efa39f",
   "metadata": {},
   "outputs": [],
   "source": [
    "boot20000_means = (\n",
    "    boot20000\n",
    "    .groupby(\"replicate\")\n",
    "    [\"price\"]\n",
    "    .mean()\n",
    "    .reset_index()\n",
    "    .rename(columns={\"price\": \"mean_price\"})\n",
    ")\n",
    "\n",
    "boot20000_means"
   ]
  },
  {
   "cell_type": "code",
   "execution_count": null,
   "id": "b7f83fe6-a327-4628-97f0-51b4d86c94de",
   "metadata": {},
   "outputs": [],
   "source": [
    "g = sns.displot(data=boot20000_means, x=\"mean_price\")\n",
    "g.set(title=\"Distribution of bootstrap sample means\",\n",
    "     xlabel=\"Sample mean price per night (dollars)\")\n",
    "plt.show()"
   ]
  },
  {
   "cell_type": "markdown",
   "id": "8dc6ecba-06ae-41b8-a239-bb53fb616d2d",
   "metadata": {},
   "source": [
    "Let's compare the bootstrap distribution&mdash;which we construct by taking many samples from our original sample of size 40&mdash;with\n",
    "the true sampling distribution&mdash;which corresponds to taking many samples from the population."
   ]
  },
  {
   "cell_type": "code",
   "execution_count": null,
   "id": "b38214c3-a494-4074-80cc-2e7c2e576db6",
   "metadata": {
    "tags": []
   },
   "outputs": [],
   "source": [
    "# Create subplots\n",
    "fig, axs = plt.subplots(2, 1, figsize=(6, 6))\n",
    "\n",
    "# Plot sampling distribution\n",
    "sns.histplot(sample_estimates['mean_price'], bins=50, ax=axs[0], color=\"#1f77b4\")\n",
    "axs[0].set_xlabel(\"Sample mean price per night (dollars)\")\n",
    "axs[0].axvline(x=np.mean(sample_estimates['mean_price']), color=\"#f58518\", linestyle='--', linewidth=2)\n",
    "axs[0].text(\n",
    "    x=np.mean(sample_estimates['mean_price'] + 5),\n",
    "    y=1250,\n",
    "    s=f\"Mean = {np.mean(sample_estimates['mean_price']).round(2)}\",\n",
    "    color=\"#f58518\",\n",
    "    size=12,\n",
    "    ha='left',\n",
    "    va='center',\n",
    "    fontweight='bold',\n",
    ")\n",
    "\n",
    "# Plot bootstrap distribution\n",
    "sns.histplot(boot20000_means['mean_price'], bins=50, ax=axs[1], color=\"#1f77b4\")\n",
    "axs[1].set_xlabel(\"Sample mean price per night (dollars)\")\n",
    "axs[1].axvline(x=np.mean(boot20000_means['mean_price']), color=\"#f58518\", linestyle='--', linewidth=2)\n",
    "axs[1].text(\n",
    "    x=np.mean(boot20000_means['mean_price'] + 5),\n",
    "    y=1250,\n",
    "    s=f\"Mean = {np.mean(boot20000_means['mean_price']).round(1)}\",\n",
    "    color=\"#f58518\",\n",
    "    size=12,\n",
    "    ha='left',\n",
    "    va='center',\n",
    "    fontweight='bold',\n",
    ")\n",
    "\n",
    "# Titles\n",
    "axs[0].set_title(\"Sampling Distribution\")\n",
    "axs[1].set_title(\"Bootstrap Distribution\")\n",
    "\n",
    "# Adjust layout and show figures\n",
    "plt.tight_layout()\n",
    "plt.show()"
   ]
  },
  {
   "cell_type": "markdown",
   "id": "492b20a3-e65c-4c0c-8f21-d6f525e6d9c6",
   "metadata": {},
   "source": [
    "There are two essential points that we can take away from\n",
    "the above histograms. First, the shape and spread of the true sampling\n",
    "distribution and the bootstrap distribution are similar; the bootstrap\n",
    "distribution lets us get a sense of the point estimate's variability. The\n",
    "second important point is that the means of these two distributions are\n",
    "slightly different. The sampling distribution is centered at\n",
    "\\\\$154.51, the population mean value. However, the bootstrap\n",
    "distribution is centered at the original sample's mean price per night,\n",
    "\\\\$153.48. Because we are resampling from the\n",
    "original sample repeatedly, we see that the bootstrap distribution is centered\n",
    "at the original sample's mean value (unlike the sampling distribution of the\n",
    "sample mean, which is centered at the population parameter value)."
   ]
  },
  {
   "cell_type": "markdown",
   "id": "5554862f-8e77-4db6-80cd-fef9bd0cc62d",
   "metadata": {},
   "source": [
    "<div class=\"alert alert-info\"> <b>Take a minute to appreciate what the bootstrapping technique has allowed us to accomplish.</b> With a single sample of 40 observations (from a much, much larger population), we've <i>very</i> closely approximated the true sampling distribution, which by definition uses the entire population of observations to compute, something we almost never have access to in real world data science applications. In essence, bootstrapping is a means of simulating many data collections (or experiments), premised only on the assumption that our single sample is representative of the population.</d>"
   ]
  },
  {
   "cell_type": "markdown",
   "id": "4ab432af-65bf-4d0d-afc8-9775d19b89b0",
   "metadata": {},
   "source": [
    "The flow chart below summarizes the bootstrapping process.\n",
    "The idea here is that we can use this distribution of bootstrap sample means to\n",
    "approximate the sampling distribution of the sample means when we only have one\n",
    "sample. Since the bootstrap distribution pretty well approximates the sampling\n",
    "distribution spread, we can use the bootstrap spread to help us develop a\n",
    "plausible range for our population parameter along with our estimate!\n",
    "\n",
    "![](https://datasciencebook.ca/_main_files/figure-html/11-bootstrapping7-1.png)"
   ]
  },
  {
   "cell_type": "markdown",
   "id": "138c72de-1533-42c8-b9ff-1cd749c234ae",
   "metadata": {},
   "source": [
    "### Using the bootstrap to calculate a plausible range\n",
    "\n",
    "Now that we have constructed our bootstrap distribution, let's use it to create\n",
    "an approximate 95\\% percentile bootstrap confidence interval (one of the most common applications of bootstrapping).\n",
    "A **confidence interval** is a range of plausible values for the population parameter. We will\n",
    "find the range of values covering the middle 95\\% of the bootstrap\n",
    "distribution, giving us a 95\\% confidence interval.  You may be wondering, what\n",
    "does \"95\\% confidence\" mean? If we took 100 random samples and calculated 100\n",
    "95\\% confidence intervals, then about 95\\% of the ranges would capture the\n",
    "population parameter's value.  Note there's nothing special about 95\\%. We\n",
    "could have used other levels, such as 90\\% or 99\\%. There is a balance between\n",
    "our level of confidence and precision. A higher confidence level corresponds to\n",
    "a wider range of the interval, and a lower confidence level corresponds to a\n",
    "narrower range. Therefore the level we choose is based on what chance we are\n",
    "willing to take of being wrong based on the implications of being wrong for our\n",
    "application. In general, we choose confidence levels to be comfortable with our\n",
    "level of uncertainty but not so strict that the interval is unhelpful. For\n",
    "instance, if our decision impacts human life and the implications of being\n",
    "wrong are deadly, we may want to be very confident and choose a higher\n",
    "confidence level.\n",
    "\n",
    "To calculate a 95\\% percentile bootstrap confidence interval, we will do the following:\n",
    "\n",
    "1. Arrange the observations in the bootstrap distribution in ascending order.\n",
    "2. Find the value such that 2.5\\% of observations fall below it (the 2.5\\% percentile). Use that value as the lower bound of the interval.\n",
    "3. Find the value such that 97.5\\% of observations fall below it (the 97.5\\% percentile). Use that value as the upper bound of the interval.\n",
    "\n",
    "To do this in Python, we wiill again use the `quantile` function of our DataFrame.\n",
    "Quantiles are expressed in proportions rather than percentages,\n",
    "so the 2.5th and 97.5th percentiles\n",
    "would be quantiles 0.025 and 0.975, respectively."
   ]
  },
  {
   "cell_type": "code",
   "execution_count": null,
   "id": "a1d8a4ca-d981-4ef3-961c-6a249198eb61",
   "metadata": {},
   "outputs": [],
   "source": [
    "ci_bounds = boot20000_means[\"mean_price\"].quantile([0.025, 0.975])\n",
    "ci_bounds"
   ]
  },
  {
   "cell_type": "markdown",
   "id": "f1b09816-fcb9-44ae-9364-c8e8e3550a70",
   "metadata": {},
   "source": [
    "Our interval, \\\\$121.6 to \\\\$191.5, captures\n",
    "the middle 95\\% of the sample mean prices in the bootstrap distribution. We can\n",
    "visualize the interval on our distribution in the following figure."
   ]
  },
  {
   "cell_type": "code",
   "execution_count": null,
   "id": "71ada0a4-017f-4b87-ac6c-d47fa483a9bb",
   "metadata": {},
   "outputs": [],
   "source": [
    "fig, ax = plt.subplots()\n",
    "sns.histplot(data=boot20000_means, x=\"mean_price\", ax=ax)\n",
    "ax.set_ylim(0, 850)\n",
    "ax.set_xlabel(\"Sample mean price per night (dollars)\")\n",
    "ax.vlines(ci_bounds, 0, ax.get_ylim()[1], color=\"tab:orange\", linestyle=\"--\")\n",
    "fig.suptitle(\"Distribution of bootstrap sample means with 95% CI\")\n",
    "plt.show()"
   ]
  },
  {
   "cell_type": "markdown",
   "id": "f18d6fdd-47cf-4674-a6b2-c6b24efbbc15",
   "metadata": {},
   "source": [
    "To finish our estimation of the population parameter, we would report the point\n",
    "estimate and our confidence interval's lower and upper bounds. Here the sample\n",
    "mean price-per-night of 40 Airbnb listings was\n",
    "\\\\$153.48, and we are 95% \"confident\" that the true\n",
    "population mean price-per-night for all Airbnb listings in Vancouver is between\n",
    "\\\\$(121.6, 191.5).\n",
    "Notice that our interval does indeed contain the true\n",
    "population mean value, \\\\$154.51! However, in\n",
    "practice, we would not know whether our interval captured the population\n",
    "parameter or not because we usually only have a single sample, not the entire\n",
    "population. This is the best we can do when we only have one sample!\n",
    "\n",
    "This chapter is only the beginning of the journey into statistical inference.\n",
    "We can extend the concepts learned here to do much more than report point\n",
    "estimates and confidence intervals, such as testing for real differences\n",
    "between populations, tests for associations between variables, and so much\n",
    "more. We have just scratched the surface of statistical inference; however, the\n",
    "material presented here will serve as a solid foundation for more advanced\n",
    "statistical techniques you may learn about in the future!"
   ]
  },
  {
   "cell_type": "markdown",
   "id": "47ffb6b8-8bca-4e91-8a44-f1a0971a2ba0",
   "metadata": {},
   "source": [
    "## Additional resources\n",
    "\n",
    "- Chapters 4 to 7 of [OpenIntro Statistics](https://www.openintro.org/book/os/)\n",
    "  provide a good next step in learning about inference. Although it is still certainly\n",
    "  an introductory text, things get a bit more mathematical here. Depending on\n",
    "  your background, you may actually want to start going through Chapters 1 to 3\n",
    "  first, where you will learn some fundamental concepts in probability theory.\n",
    "  Although it may seem like a diversion, probability theory is *the language of\n",
    "  statistics*; if you have a solid grasp of probability, more advanced statistics\n",
    "  will come naturally to you!\n",
    "- The first two chapters of [An Introduction to the Bootstrap](https://www.hms.harvard.edu/bss/neuro/bornlab/nb204/statistics/bootstrap.pdf) are a great resource for bolstering your understanding of bootstrapping. "
   ]
  },
  {
   "cell_type": "markdown",
   "id": "fb93fe07-93a2-43ca-b3e2-6d8a25d8555b",
   "metadata": {},
   "source": [
    "---\n",
    "## Exercise\n",
    "\n",
    "Wow&mdash;that was a lot of information! A theme of this course is that coding is a great way to get a better quantitative understanding of data. The code I used above was very efficient and made a lot of use of some great `pandas` and `NumPy` functions. However, sometimes it is helpful to code things in slightly less efficient ways, so that you can more explicitly see the steps involved and better understand them.\n",
    "\n",
    "The point of this exercise is to go into more detail with the steps involved in bootstrapping. You should reproduce the 95% CI of the bootstrapped distribution of average rental prices following the prompts below. Have fun! "
   ]
  },
  {
   "cell_type": "markdown",
   "id": "ae970ebe-58e2-4451-bcee-74d2beaa344e",
   "metadata": {},
   "source": [
    "## Step 1: Reacquaint yourself with your sample\n",
    "\n",
    "Print out the first five lines of your single sample of observations `one_sample`. Remember, this sample is analogous to what you would have in \"real life\" if you were collecting data, whether those data were observational or experimental. In other words, there is some population of interest and you collect some observations or recruit and test subjects so you can make an inference about the population using your single sample."
   ]
  },
  {
   "cell_type": "code",
   "execution_count": null,
   "id": "319bd228-8aad-4332-8d72-09e40902f6d4",
   "metadata": {},
   "outputs": [],
   "source": [
    "# Print out first five lines of one_sample\n"
   ]
  },
  {
   "cell_type": "markdown",
   "id": "26cf66cf-991e-4bcc-9d1b-84eb710b4581",
   "metadata": {},
   "source": [
    "## Step 2: Write a function that will generate a *single* bootstrap sample\n",
    "\n",
    "Starter code has been provided below. The text in red font is called a docstring, and I've provided it to help you better understand the goal of the task and also because it's standard practice to document your code, both for yourself and others. "
   ]
  },
  {
   "cell_type": "code",
   "execution_count": null,
   "id": "88631496-66ef-4291-bd6a-dad33b5881aa",
   "metadata": {},
   "outputs": [],
   "source": [
    "def resample_with_replacement(sample):\n",
    "    \"\"\"Resample data points with replacement from a given sample.\n",
    "\n",
    "    Args:\n",
    "    sample (pandas.Series): A Series object that contains the input values.\n",
    "\n",
    "    Returns:\n",
    "    pandas.Series: The resampled (with replacement) observations.\n",
    "    \"\"\"\n",
    "\n",
    "    # Get array of indices of resampled observations - use numpy's \n",
    "    # random.choice() function (check out online API)\n",
    "    resample_idx = np.random.choice(...)\n",
    "\n",
    "    # Assign resampled observations to bootstrap_sample - remember you are\n",
    "    # working with a pandas Series object\n",
    "    bootstrap_sample = ...\n",
    "    \n",
    "    # Remember to return your desired output\n",
    "    return ..."
   ]
  },
  {
   "cell_type": "markdown",
   "id": "b500aa34-b3fc-4e63-a09b-9ba3c817cb1e",
   "metadata": {},
   "source": [
    "## Step 3a: Create your distribution of bootstrapped means"
   ]
  },
  {
   "cell_type": "code",
   "execution_count": null,
   "id": "c1e66e6f-7393-467f-931d-9a3a771185c6",
   "metadata": {},
   "outputs": [],
   "source": [
    "# Create your distribution of bootstrapped means (use 20,000 again)\n",
    "n_bootstraps = ...  # the number of bootstrapped samples\n",
    "\n",
    "# Create an empty list called 'bootstrap_dist' to hold your bootstrapped means\n",
    "bootstrap_dist = ...\n",
    "# Write a for loop to calculate n_bootstraps' worth of mean prices\n",
    "for i in range(...):\n",
    "    bootstrap_sample = ...  # Use your new function\n",
    "    bootstrap_dist...  # Grow your list\n",
    "    "
   ]
  },
  {
   "cell_type": "markdown",
   "id": "d0e1fba3-8035-46e8-8640-17f40d8b7d2d",
   "metadata": {},
   "source": [
    "## Step 3b: Compare the code you just wrote to the code we used above.\n",
    "\n",
    "This should help you better understand the code we used in the chapter. "
   ]
  },
  {
   "cell_type": "markdown",
   "id": "4c6cb12f-8272-4a3e-9bc5-b9402218a038",
   "metadata": {},
   "source": [
    "## Step 4: Compute empirical 95% confidence interval\n",
    "\n",
    "Luckily, `numpy` has a `quantile` function, and it can even be used on lists!"
   ]
  },
  {
   "cell_type": "code",
   "execution_count": null,
   "id": "cb8d7199-3328-4836-984a-896d1f81ad64",
   "metadata": {},
   "outputs": [],
   "source": [
    "bootstrap_95_ci = ..."
   ]
  },
  {
   "cell_type": "markdown",
   "id": "5efa320e-9258-4a50-982d-1a4221561bff",
   "metadata": {},
   "source": [
    "## Step 5: Plot your distribution with 95% CI bounds. \n",
    "\n",
    "You can borrow the earlier code we used to do this. Just remember that `bootstrap_dist` is not a `pandas` object, so you don't want to use `seaborn` for this. "
   ]
  },
  {
   "cell_type": "code",
   "execution_count": null,
   "id": "f120d6ce-7e35-40b6-9902-d1bff07c590d",
   "metadata": {},
   "outputs": [],
   "source": [
    "fig, ax = plt.subplots()\n",
    "ax.hist(..., bins=80)\n",
    "ax.set_ylim(0, 1000)\n",
    "ax.set_xlabel(\"Sample mean price per night (dollars)\")\n",
    "ax.vlines(..., 0, ax.get_ylim()[1], color=\"tab:orange\", linestyle=\"--\")\n",
    "fig.suptitle(\"Distribution of bootstrap sample means with 95% CI\")\n",
    "plt.show()"
   ]
  },
  {
   "cell_type": "markdown",
   "id": "abfe2f2a-2473-4302-ae3d-976c2ad1781a",
   "metadata": {},
   "source": [
    "## Step 6: Apply bootstrapping in your mini-project!\n",
    "\n",
    "For your projects, you are very likely estimating some quantity/property/parameter using a sample. Use bootstrapping to provide a 95% CI on that estimate. Remember: bootstrapping is such a widely-used method because it makes so few assumptions. Your data don't have to be normally distributed, bell-shaped, or any shape in order to use bootstrapping&mdash;your data just need to be representative of the population of interest! "
   ]
  },
  {
   "cell_type": "markdown",
   "id": "664093c9-0657-4eeb-8e05-a3c578375d2b",
   "metadata": {},
   "source": [
    "---\n",
    "This chapter has been adapted from the excellent online textbook [Data Science: A First Introduction (Python Edition)](https://python.datasciencebook.ca/inference.html) used in UBC's Python-flavored DSCI 100 course.  "
   ]
  }
 ],
 "metadata": {
  "kernelspec": {
   "display_name": "Python 3 (ipykernel)",
   "language": "python",
   "name": "python3"
  },
  "language_info": {
   "codemirror_mode": {
    "name": "ipython",
    "version": 3
   },
   "file_extension": ".py",
   "mimetype": "text/x-python",
   "name": "python",
   "nbconvert_exporter": "python",
   "pygments_lexer": "ipython3",
   "version": "3.10.8"
  }
 },
 "nbformat": 4,
 "nbformat_minor": 5
}
