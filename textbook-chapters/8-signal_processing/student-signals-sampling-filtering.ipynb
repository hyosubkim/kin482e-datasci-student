{
 "cells": [
  {
   "cell_type": "markdown",
   "id": "8fd2d7c7-131b-4ada-bb39-1ca4b9021f29",
   "metadata": {
    "tags": []
   },
   "source": [
    "# Signals, Sampling & Filtering\n",
    "---"
   ]
  },
  {
   "cell_type": "markdown",
   "id": "e553813b-0419-4091-b39c-e1aa5e31c8c2",
   "metadata": {},
   "source": [
    "<div class=\"alert alert-block alert-info\">\n",
    "This chapter was copied and lightly adapted (mostly code edits) from Paul Gribble's <a href=\"https://gribblelab.org/teaching/scicomp2020/\">Scientific Computing</a> course under a <a href=\"http://creativecommons.org/licenses/by/4.0/\">Creative Commons Attribution 4.0 International License</a>. Some of the topics here are more advanced. The goal is to provide you an introduction to this extremely important topic as well as some conceptual and practical understanding. Hence, you may find a lot of value in returning to this chapter in the future, whether to boost your understanding or utilize the code examples provided. \n",
    "</div>"
   ]
  },
  {
   "cell_type": "markdown",
   "id": "4c1dc48d-6f52-4543-88ec-e4ca8bdcba8a",
   "metadata": {},
   "source": [
    "Whereas signals in nature (such as sound waves, magnetic fields, hand position, electromyograms (EMG), electroencephalograms (EEG), extra-cellular potentials, etc) vary continuously, often in science we measure these signals by **sampling** them repeatedly over time, at some **sampling frequency**. The resulting collection of measurements is a **discretized** representation of the original continuous signal.\n",
    "\n",
    "Before we get into **sampling theory** however we should first define some common terms and talk about how signals can be represented both in the **time domain** and in the **frequency domain**.\n",
    "\n",
    "#### Terminology\n",
    "- Frequency - number of cycles per unit time (usually seconds)\n",
    "- Period - how long it takes a signal to go through a full cycle (e.g., 2$\\pi$ radians)\n",
    "- Phase - angular position (we won't discuss phase very much here)"
   ]
  },
  {
   "cell_type": "markdown",
   "id": "1c186e4c-94d9-4140-8ac9-c88ae371dc7d",
   "metadata": {},
   "source": [
    "## Time domain representation of signals\n",
    "\n",
    "This is how you are probably used to thinking about signals, namely how the magnitude of a signal varies over time. So for example a signal $s$ containing a sinusoid with a period $T$ of 0.5 seconds (a frequency of 2 Hz) and a peak-to-peak magnitude $b$ of 2 volts is represented in the time domain $t$ as:\n",
    "\n",
    "$$ s(t) = \\left(\\frac{b}{2}\\right) \\mathrm{sin}\\left(wt\\right) $$\n",
    "\n",
    "where\n",
    "\n",
    "$$ w = \\frac{2 \\pi}{T} $$\n",
    "\n",
    "We can visualize the signal by plotting its magnitude as a function of time:"
   ]
  },
  {
   "cell_type": "code",
   "execution_count": null,
   "id": "c1a0cb79-d1f0-4ef6-9481-d249b5188fa7",
   "metadata": {},
   "outputs": [],
   "source": [
    "# Standard imports plus SciPy\n",
    "import numpy as np\n",
    "import matplotlib.pyplot as plt\n",
    "import scipy as sp"
   ]
  },
  {
   "cell_type": "code",
   "execution_count": null,
   "id": "24b85028-0690-4c98-8d84-8e6dbbddfa43",
   "metadata": {},
   "outputs": [],
   "source": [
    "# Define our sine wave\n",
    "T = 0.5  # period (1 / frequency)\n",
    "b = 2  # peak-to-peak amplitude\n",
    "w = 2 * np.pi / T\n",
    "t = np.linspace(0, 1, 101)\n",
    "s = b / 2 * np.sin(w * t)\n",
    "\n",
    "# Plot our sine wave\n",
    "fig, ax = plt.subplots()\n",
    "ax.plot(t, s)\n",
    "ax.set_xlabel(\"Time (s)\")\n",
    "ax.set_ylabel(\"Signal magnitude (V)\")\n",
    "plt.show()"
   ]
  },
  {
   "cell_type": "markdown",
   "id": "8588211d-960a-4dc0-8b1a-2214cbf977e3",
   "metadata": {},
   "source": [
    "## Frequency domain representation of signals\n",
    "\n",
    "We can also represent signals in the frequency domain. This requires some understanding of the [Fourier series](http://en.wikipedia.org/wiki/Fourier_series). The idea of the Fourier series is that all periodic signals can be represented by (decomposed into) the sum of a set of pure sines and cosines that differ in frequency and period. See the wikipedia link for lots of details and a helpful animation.\n",
    "\n",
    "$$ s(t) = \\frac{a_{0}}{2} + \\sum_{n=1}^{\\infty} \\left[a_{n}\\mathrm{cos}(nwt) + b_{n}\\mathrm{sin}(nwt)\\right] $$\n",
    "\n",
    "The coefficients $a_{n}$ and $b_{n}$ define the weighting of the different sines and cosines at different frequencies. In other words these coefficients represent the strength of the different frequency components in the signal.\n",
    "\n",
    "We can also represent the Fourier series using only sines:\n",
    "\n",
    "$$ s(t) = \\frac{a_{0}}{2} + \\sum_{n=1}^{\\infty} \\left[r_{n}\\mathrm{cos}(nwt-\\phi_{n})\\right] $$\n",
    "\n",
    "Using this formulation we now have **magnitude** coefficients $r_{n}$ and **phase** coefficients $\\phi_{n}$. That is, we are representing the original signal $s(t)$ using a sum of sinusoids of different frequencies and phases.\n",
    "\n",
    "Here is a java applet that lets you play with how sines and cosines can be used to represent different signals: [Fourier Series Applet](http://www.falstad.com/fourier/).\n"
   ]
  },
  {
   "cell_type": "markdown",
   "id": "b1ff231e-f287-44a8-8037-084930a8a7a8",
   "metadata": {},
   "source": [
    "## Fast Fourier transform (FFT)\n",
    "\n",
    "Given a signal there is a very efficient computational algorithm called the [Fast Fourier transform](http://en.wikipedia.org/wiki/Fast_Fourier_transform) (FFT) for computing the magnitude and phase coefficients. We will not go into the details of this algorithm here, most high level programming languages have a library that includes the FFT algorithm.\n",
    "\n",
    "Here is a video showing a 100-year-old mechanical computer that does both forward and inverse Fourier transforms:\n",
    "\n",
    "*   [Harmonic Analyzer (1/4)](https://www.youtube.com/watch?v=NAsM30MAHLg)\n",
    "*   [Harmonic Analyzer (2/4)](https://www.youtube.com/watch?v=8KmVDxkia_w)\n",
    "*   [Harmonic Analyzer (3/4)](https://www.youtube.com/watch?v=6dW6VYXp9HM)\n",
    "*   [Harmonic Analyzer (4/4)](https://www.youtube.com/watch?v=jfH-NbsmvD4)"
   ]
  },
  {
   "cell_type": "markdown",
   "id": "c92dbce5-e00f-4ef1-a74b-4eec8712eef5",
   "metadata": {},
   "source": [
    "## Sampling\n",
    "\n",
    "Before we talk about the FFT and magnitude and phase coefficients, we need to talk about discrete versus continuous signals, and sampling. In theory we can derive a mathematical description of the Fourier decomposition of a continuous signal, as we have done above, in terms of an infinite number of sinusoids. In practice however, signals are not continuous, but are **sampled** at some discrete **sampling rate**.\n",
    "\n",
    "For example, when we use Optotrak to record the position of the fingertip during pointing experiments, we choose a sampling rate of 200 Hz. This means 200 times per second the measurement instrument samples and records the position of the fingertip. The interval between any two samples is 5 ms. It turns out that the sampling rate used has a specific effect on the number of frequencies used in a discrete Fourier representation of the recorded signals.\n",
    "\n",
    "The [Shannon-Nyquist sampling theorem](http://en.wikipedia.org/wiki/Nyquist%E2%80%93Shannon_sampling_theorem) states that a signal must be sampled at a rate which is at least twice that of its highest frequency component. If a signal contains power at frequencies higher than half the sampling rate, these high frequency components will appear in the sampled data at lower frequencies and will distort the recording. This is known as the problem of [aliasing](http://en.wikipedia.org/wiki/Aliasing).\n",
    "\n",
    "Let's look at a concrete example that will illustrate this concept. Let's assume we have a signal that we want to sample, and we choose a sampling rate of 4 Hz. This means every 250 ms we sample the signal. According to the Shannon-Nyquist theorem, the maximum frequency we can uniquely identify is half that, which is 2 Hz. This is called the [nyquist frequency](http://en.wikipedia.org/wiki/Nyquist_frequency). Let's look at a plot and see why this is so.\n",
    "\n",
    "Below we see a solid blue line showing a 2 Hz signal, a magenta dashed line showing a 4 Hz signal, and a green dashed line showing a 8 Hz signal. Now imagine we sample these signals at 2 Hz, indicated by the vertical red lines. Notice that at the sample points (vertical red lines), the 2 Hz, 4 Hz and 8 Hz signals overlap with identical values. This means that on the basis of our 2 Hz samples, we cannot distinguish between frequencies of 2, 4 and 8 Hz. What's more, what this means is that if the signal we are actually sampling at 2 Hz has significant signal power at frequencies above the Nyquist (1 Hz) then the power at these higher frequencies will influence our estimates of the magnitude coefficients corresponding to frequencies below the Nyquist… in other words the high-frequency power will be aliased into the lower frequency estimates.\n",
    "\n",
    "\n",
    "![signal_aliasing.jpg](images/signal-aliasing.jpg)\n"
   ]
  },
  {
   "cell_type": "markdown",
   "id": "65e72115-507f-4404-bc6c-48f747ecd51d",
   "metadata": {},
   "source": [
    "Below is another example taken from the [wikipedia article on aliasing](http://en.wikipedia.org/wiki/Aliasing). Here we have two sinusoids — one at 0.1 Hz (blue) and another at 0.9 Hz (red). We sample both at a sampling rate of 1 Hz (vertical green lines). You can see that at the sample points, both the 0.1 Hz and 0.9 Hz sinusoids \"hit\" the sample points and thus both would influence our estimates of the power at the 0.1 Hz frequency. Since the sampling rate is 1 Hz, the Nyquist frequency (the maximum frequency we can distinguish) is 0.5 Hz - and so any power in the signal above 0.5 Hz (such as 0.9 Hz) will be aliased down into the lower frequencies (in this case into the 0.1 Hz band).\n",
    "\n",
    "![signal-aliasing.jpg](images/signal-aliasing-sines.jpg)\n",
    "\n",
    "</div>"
   ]
  },
  {
   "cell_type": "markdown",
   "id": "5e7606b9-19fe-46ab-91da-b210e2dba5bc",
   "metadata": {},
   "source": [
    "So the message here is that in advance, before choosing your sampling rate, you should have some knowledge about the highest frequency that you (a) are interested in identifying; and (b) you think is a real component in the signal (as opposed to random noise). In cases where you have no a priori knowledge about the expected frequency content, one strategy is to remove high frequency components _before sampling_. This can be accomplished using low-pass filtering — sometimes called anti-aliasing filters. Once the signal has been sampled, it's too late to perform anti-aliasing."
   ]
  },
  {
   "cell_type": "markdown",
   "id": "765eddcb-f454-4c26-a5e6-c683e20937ee",
   "metadata": {},
   "source": [
    "## Power spectra\n",
    "\n",
    "Rather than going into the computational details of how magnitude and phase coefficients are estimated (which goes beyond the scope of this course), we will now talk about how to interpret them.\n",
    "\n",
    "For a given signal, the collection of magnitude coefficients gives a description of the signal in terms of the strength of the various underlying frequency components. For our immediate purposes these magnitude coefficients will be most important to us and we can for the moment set aside the phase coefficients.\n",
    "\n",
    "Here is an example of a power spectrum for a pure 10 Hz signal, sampled at 100 Hz.\n",
    "\n",
    "![](images/signal_spectrum10.jpg)"
   ]
  },
  {
   "cell_type": "markdown",
   "id": "d5b85ab4-f785-4bcf-8ec4-262eedf5d7dc",
   "metadata": {},
   "source": [
    "The magnitude values are zero for every frequency except 10 Hz. We haven't plotted the phase coefficients. The set of magnitude and phase coefficients derived from a Fourier analysis is a complete description of the underlying signal, with one caveat — only frequencies up to the Nyquist are represented. So the idea here is that one can go between the original time-domain representation of the signal and this frequency domain representation of the signal without losing information. As we shall see below in the section on filtering, we can perform operations in the frequency domain and then transform back into the time domain.\n",
    "\n",
    "Here is some Python code to illustrate these concepts. We construct a one second signal sampled at 1000 Hz that is composed of a 6 Hz, 10 Hz and 13 Hz components. We then use the `fft()` function to compute the Fast Fourier transform, we extract the magnitude information, we set our frequency range (up to the Nyquist) and we plot the **spectrum**:"
   ]
  },
  {
   "cell_type": "code",
   "execution_count": null,
   "id": "26954c36-79bc-44e3-a705-679923fe4dd1",
   "metadata": {},
   "outputs": [],
   "source": [
    "# Create our signal\n",
    "t = np.linspace(0,1,1000) # 1 second sampled at 1000 Hz\n",
    "# Create 6, 10, and 13 Hz signals\n",
    "y = np.sin(2 * np.pi * t * 6) + np.sin(2 * np.pi * t * 10) + np.sin(2 * np.pi * t * 13)\n",
    "\n",
    "# Set-up our subplots\n",
    "fig, ax = plt.subplots(2,1)\n",
    "ax[0].plot(t, y)\n",
    "ax[0].set_xlabel('Time (sec)')\n",
    "ax[0].set_ylabel('Signal magnitude')\n",
    "\n",
    "# Perform the FFT\n",
    "out = sp.fft.rfft(y) # compute the FFT (rfft is fft on real-valued data and is preferred for speed)\n",
    "mag = np.abs(out)  # extract the magnitude information\n",
    "freqs = sp.fft.rfftfreq(len(y), d=1/1000) # compute the frequency range; d is sample spacing\n",
    "\n",
    "# Plot the filtered signal\n",
    "ax[1].plot(freqs, mag) # plot the magnitude spectrum up to the Nyquist\n",
    "ax[1].set_xlim([0, 50]) # Zoom in on the first 50 Hz for visualization purposes \n",
    "ax[1].set_xlabel('Frequency Component (Hz)')\n",
    "ax[1].set_ylabel('Power')\n",
    "\n",
    "plt.tight_layout()"
   ]
  },
  {
   "cell_type": "markdown",
   "id": "c14cd9b2-0f04-463c-ae40-b4fcfb14670c",
   "metadata": {},
   "source": [
    "We can see that the power spectrum has revealed peaks at 6, 10 and 13 Hz - which we know is correct, since we designed our signal from scratch.\n",
    "\n",
    "Typically however signals in the real world that we record are not pure sinusoids, but contain random noise. Noise can originate from the actual underlying process that we are interested in measuring, and it can also originate from the instruments we use to measure the signal. For noisy signals, the FFT taken across the whole signal can be noisy as well, and can make it difficult to see peaks."
   ]
  },
  {
   "cell_type": "markdown",
   "id": "dd5804df-e7c6-4924-ad63-7c3b3be511f5",
   "metadata": {},
   "source": [
    "## Power Spectral Density\n",
    "\n",
    "One solution is instead of performing the FFT on the entire signal all at once, to instead, split the signal into chunks, take the FFT of each chunk, and then average these spectra to come up with a smoother spectrum. This can be accomplished using a [power spectral density](http://www.mathworks.com/help/signal/ref/dspdata.psd.html) function. In Python in the SciPy package there is a function scipy.signal.welch() to accomplish this. We won’t go into the mathematical details or the theoretical considerations (relating to stochastic processes) but for now suffice it to say that the psd can often give you a better estimate of the power at different frequencies compared to a “plain” FFT, in the presence of random noise.\n",
    "\n",
    "Here is an example of plotting the power spectral density of a signal. We construct a 12 Hz signal at 1000 Hz sampling rate, and we add some random noise on top:"
   ]
  },
  {
   "cell_type": "code",
   "execution_count": null,
   "id": "05f2a3cb-8b64-4fdc-9155-ffc60e37f76c",
   "metadata": {},
   "outputs": [],
   "source": [
    "# Construct signal\n",
    "t = np.linspace(0,1,1000)\n",
    "y = np.sin(2 * np.pi * t * 12)\n",
    "yn = y + np.random.randn(len(y)) * 2  # add noise\n",
    "\n",
    "# Create subplots\n",
    "fig,ax = plt.subplots(2,1, figsize=(6,6))\n",
    "ax[0].plot(t,yn)\n",
    "ax[0].set_xlabel('Time (sec)')\n",
    "ax[0].set_ylabel('Signal Amplitude')\n",
    "ax[0].set_title('TIME SERIES SIGNAL')\n",
    "\n",
    "# Compute power spectral density\n",
    "freqs, psd = sp.signal.welch(yn, fs=1000, nperseg=1000)\n",
    "\n",
    "ax[1].plot(freqs, psd)\n",
    "ax[1].set_xlim([0,100])\n",
    "ax[1].set_xlabel('Frequency (Hz)')\n",
    "ax[1].set_ylabel('PSD')\n",
    "ax[1].set_title('PSD')\n",
    "plt.tight_layout()"
   ]
  },
  {
   "cell_type": "markdown",
   "id": "7a2115f6-f664-4523-b9c3-e019a8e9d7f9",
   "metadata": {},
   "source": [
    "In the Figure above you can see that the peak at 12 Hz stands nicely above all the noise in the power spectral density estimate (bottom panel).\n",
    "\n",
    "We have been ignoring the **phase** of the signal here, but just like the magnitude coefficients over frequencies, we can recover the phase coefficients of the signal as well."
   ]
  },
  {
   "cell_type": "markdown",
   "id": "8b2e63bc-c409-4416-855f-3f8c07326885",
   "metadata": {},
   "source": [
    "## Decibel scale\n",
    "\n",
    "The decibel (dB) scale is a ratio scale. It is commonly used to measure sound level but is also widely used in electronics and signal processing. The dB is a logarithmic unit used to describe a ratio. You will often see power spectra displayed in units of decibels.\n",
    "\n",
    "The difference between two sound levels (or two power levels, as in the case of the power spectra above), is defined to be:\n",
    "\n",
    "$$ 20 \\text{log}_{10} \\left(\\frac{P_{2}}{P_{1}}\\right)dB $$\n",
    "\n",
    "Thus when $P_{2}$ is twice as large as $P_{1}$, then the difference is about 6 dB. When $P_{2}$ is 10 times as large as $P_{1}$, the difference is 20 dB. A 100 times difference is 40 dB.\n",
    "\n",
    "An advantage of using the dB scale is that it is easier to see small signal components in the presence of large ones. In other words large components don't visually swamp small ones.\n",
    "\n",
    "Since the dB scale is a ratio scale, to compute absolute levels one needs a reference — a zero point. In acoustics this reference is usually 20 micropascals — about the limit of sensitivity of the human ear.\n",
    "\n",
    "For our purposes in the absence of a meaningful reference we can use 1.0 as the reference (i.e. as $P_{1}$ in the above equation)."
   ]
  },
  {
   "cell_type": "markdown",
   "id": "b407ae91-e649-4605-82db-636695cf621b",
   "metadata": {},
   "source": [
    "## Spectrogram\n",
    "\n",
    "Often there are times when you may want to examine how the power spectrum of a signal (in other words its frequency content) changes over time. In speech acoustics for example, at certain frequencies, bands of energy called [formants](http://en.wikipedia.org/wiki/Formant) may be identified, and are associated with certain speech sounds like vowels and vowel transitions. It is thought that the neural systems for human speech recognition are tuned for identification of these formants.\n",
    "\n",
    "Essentially a spectrogram is a way to visualize a series of power spectra computed from slices of a signal over time. Imagine a series of single power spectra (frequency versus power) repeated over time and stacked next to each other over a time axis.\n",
    "\n",
    "Matplotlib has a built-in function called `.pyplot.specgram()` that will generate a spectrogram. In the figure below, power is color-coded such that cool colors (blues) represent low power and hot colors (reds) represent high power. "
   ]
  },
  {
   "cell_type": "code",
   "execution_count": null,
   "id": "a0e24e92-513b-4ddd-a36e-6a51e09a5c88",
   "metadata": {},
   "outputs": [],
   "source": [
    "import matplotlib.pyplot as plt\n",
    "from mpl_toolkits.axes_grid1 import make_axes_locatable\n",
    "import numpy as np\n",
    "\n",
    "mtlb = np.loadtxt('mtlb.txt')\n",
    "Fs = 7418\n",
    "\n",
    "fig, ax = plt.subplots()\n",
    "_, _, _, cax = ax.specgram(mtlb, 256, Fs=Fs, cmap='jet')\n",
    "ax.set_xlabel(\"Time\")\n",
    "ax.set_ylabel(\"Frequency\")\n",
    "fig.colorbar(cax)\n",
    "plt.show()"
   ]
  },
  {
   "cell_type": "markdown",
   "id": "07bf2b25-c772-4314-a601-ba34107f5742",
   "metadata": {},
   "source": [
    "## Inverse Fast Fourier transform (IFFT)\n",
    "\n",
    "Once we have the FFT of a signal, which represents the signal in the frequency domain as a series of magnitude and phase coefficients, we can reconstruct the signal in the time-domain using the inverse fast fourier transform (IFFT). Here is a concrete example:\n"
   ]
  },
  {
   "cell_type": "code",
   "execution_count": null,
   "id": "4e040b1e-b849-4d65-b7a9-64685384bca8",
   "metadata": {},
   "outputs": [],
   "source": [
    "# Construct signal and plot in the time domain\n",
    "fig, axs = plt.subplots(4, 1, figsize=(6, 12))\n",
    "t = np.linspace(0, 1, 1001)\n",
    "y = np.sin(2 * np.pi * t * 6) + np.sin(2 * np.pi * t * 10) + np.sin(2 * np.pi * t * 13)\n",
    "axs[0].plot(t, y, \"b\")\n",
    "axs[0].set_xlabel(\"Time (s)\")\n",
    "axs[0].set_ylabel(\"Original signal\")\n",
    "\n",
    "# Compute FFT and plot the magnitude spectrum\n",
    "F = np.fft.fft(y)\n",
    "N = len(t)  # Number of samples\n",
    "dt = 0.001  # Inter-sample time difference\n",
    "w = np.fft.fftfreq(N, dt)  # Gives list of frequencies for FFT\n",
    "ipos = np.where(w > 0)\n",
    "freqs = w[ipos]  # Only look at positive fequencies\n",
    "mags = np.abs(F[ipos])  # Magnitude component\n",
    "phase = np.imag(F[ipos])  # Phase component\n",
    "\n",
    "axs[1].plot(freqs, mags, \"b\")\n",
    "axs[1].set_xlim([0, 50])  # Zoom in on 0-50 Hz freqs\n",
    "axs[1].set_ylabel(\"FFT magnitude\")\n",
    "axs[1].set_xlabel(\"Frequency (Hz)\")\n",
    "\n",
    "axs[2].plot(freqs, phase, \"b\")\n",
    "axs[2].set_xlim([0, 50])  # Zoom in on 0-50 Hz freqs\n",
    "axs[2].set_ylabel(\"FFT phase\")\n",
    "axs[2].set_xlabel(\"Frequency (Hz)\")\n",
    "\n",
    "yr = np.fft.ifft(F)\n",
    "axs[3].plot(t, y, \"b\", label=\"original\")\n",
    "axs[3].plot(t, yr, \"r\", label=\"reconstructed\")\n",
    "axs[3].set_xlabel(\"Time (s)\")\n",
    "axs[3].set_ylabel(\"Reconstructed signal\")\n",
    "axs[3].legend(frameon=False)\n",
    "fig.tight_layout()\n"
   ]
  },
  {
   "cell_type": "markdown",
   "id": "992a8d6a-acd9-4e7f-ac64-1bc634ff57bc",
   "metadata": {},
   "source": [
    "You can see above that the original signal is reconstructed in its entirety, simply on the basis of its frequency domain representation (the FFT)."
   ]
  },
  {
   "cell_type": "markdown",
   "id": "5c57954d-4952-4c70-a640-f01d163639e4",
   "metadata": {},
   "source": [
    "## Filtering\n",
    "\n",
    "We can use this property of signals to filter them. Below I take our original signal containing frequency components at 6, 10 and 13 Hz, I take the FFT, and then I set the values in the FFT corresponding to the frequency peaks of 10 and 13 Hz, to zero (and I leave the value corresponding to the frequency of 6 Hz unchanged). I then reconstruct a signal based on this altered frequency domain representation, using `ifft()`, and plot the resulting signal. What you can see is that by setting the coefficients corresponding to 10 and 13 Hz to zero, I essentially **filtered out** all of the power in the signal at those frequencies. The reconstructed signal now only has power at 6 Hz (the red line, it looks like a pure 6 Hz sinusoid).\n"
   ]
  },
  {
   "cell_type": "code",
   "execution_count": null,
   "id": "df5f6ba2-f3f7-4ca8-953f-b74c03cd4a3b",
   "metadata": {},
   "outputs": [],
   "source": [
    "# Construct signal and plot in the time domain\n",
    "fig, axs = plt.subplots(3, 1, figsize=(6, 12))\n",
    "t = np.linspace(0, 1, 1001)\n",
    "y = np.sin(2 * np.pi * t * 6) + np.sin(2 * np.pi * t * 10) + np.sin(2 * np.pi * t * 13)\n",
    "axs[0].plot(t, y, \"b\")\n",
    "axs[0].set_xlabel(\"Time (s)\")\n",
    "axs[0].set_ylabel(\"Original signal\")\n",
    "\n",
    "# Compute FFT and plot the magnitude spectrum\n",
    "F = np.fft.fft(y)\n",
    "N = len(t)  # Number of samples\n",
    "dt = 0.001  # Inter-sample time difference\n",
    "w = np.fft.fftfreq(N, dt)  # Gives list of frequencies for FFT\n",
    "ipos = np.where(w > 0)\n",
    "freqs = w[ipos]  # Only look at positive fequencies\n",
    "mags = np.abs(F[ipos])  # Magnitude component\n",
    "phase = np.imag(F[ipos])  # Phase component\n",
    "\n",
    "ip = np.where(F > 5)[0]  # Find peaks in FFT\n",
    "Fs = np.copy(F)  # Make a copy of the signal FFT\n",
    "Fs[ip[[2, 3]]] = 0  # Set peaks corresponding to \n",
    "yf = np.fft.ifft(Fs)  # reconstruct\n",
    "\n",
    "Ff = np.copy(F)  # make a copy of the signal FFT\n",
    "Ff[ip[[1, 2, 3, 4]]] = 0  # set 10Hz and 13Hz peaks to zero\n",
    "magsf = np.abs(Ff[ipos])  # magnitude component\n",
    "phasef = np.imag(Ff[ipos])  # phase component\n",
    "yf = np.fft.ifft(Ff)  # reconstruct\n",
    "\n",
    "axs[1].plot(freqs, mags, \"b\", label=\"original\")\n",
    "axs[1].plot(freqs, magsf, \"r\", label=\"filtered\", linewidth=2)\n",
    "axs[1].set_xlim([0, 50])  # Zoom in on 0-50 Hz freqs\n",
    "axs[1].set_ylabel(\"FFT magnitude\")\n",
    "axs[1].set_xlabel(\"Frequency (Hz)\")\n",
    "\n",
    "axs[2].plot(t, y, \"b\", label=\"original\")\n",
    "axs[2].plot(t, yf, \"r\", label=\"filtered\")\n",
    "axs[2].set_xlabel(\"Time (s)\")\n",
    "axs[2].set_ylabel(\"Reconstructed signal\")\n",
    "axs[2].legend(frameon=False)\n",
    "fig.tight_layout()\n"
   ]
  },
  {
   "cell_type": "markdown",
   "id": "bc4d0f6e-b299-4326-93bf-e2037bdd53aa",
   "metadata": {},
   "source": [
    "This is a fairly simple-minded way of filtering a signal, but it illustrates the underlying concepts. There are an entire range of algorithms for filtering that are designed to manipulate frequency ranges, and they differ in a number of respects including how quickly they alter the frequencies in question, how they affect the phase information in the signal, and a number of other things we won't go into here. There are entire signal processing textbooks oriented around this topic, so if you're interested in details, I can point you towards some good sources.\n",
    "\n",
    "Here is a short summary of different kinds of filters, and some terminology.\n",
    "\n",
    "*   **low-pass filters** pass low frequencies without change, but attenuate (i.e. reduce) frequencies above the **cutoff frequency**\n",
    "*   **high-pass filters** pass high frequencies and attenuate low frequencies, below the cutoff frequency\n",
    "*   **band-pass filters** pass frequencies within a **pass band** frequency range and attenuate all others\n",
    "*   **band-stop filters** (sometimes called **band-reject filters** or **notch filters**) attenuate frequencies within the **stop band** and pass all others"
   ]
  },
  {
   "cell_type": "markdown",
   "id": "cb14515a-00f6-4674-8470-f9099cb2e8a8",
   "metadata": {},
   "source": [
    "### Characterizing filter performance\n",
    "\n",
    "A useful way of characterizing a filter's performance is in terms of the ratio of the amplitude of the output to the input (the amplitude ratio AR or gain), and the phase shift (\\(\\phi\\)) between the input and output, as functions of frequency. A plot of the amplitude ratio and phase shift against frequency is called a [Bode plot](http://en.wikipedia.org/wiki/Bode_plot).\n",
    "\n",
    "The **pass band** of a filter is the range of frequencies over which signals pass with no change. The **stop band** refers to the range of frequencies over which a filter attenuates signals. The **cutoff frequency** or **corner frequency** of a filter is used to describe the transition point from the pass band to the reject band. Since this transition cannot occur instantaneously it is usually defined to be the point at which the filter output is equal to -6 dB of the input in the pass band. The cutoff frequency is sometimes called the -6 dB point or the half-power point since -6 dB corresponds to half the signal power. The **roll-off** refers to the rate at which the filter attenuates the input after the cutoff point. When the roll-off is linear it can be specified as a specific slope, e.g. in terms of dB/decade or dB/octave (an octave is a doubling in frequency).\n",
    "\n",
    "Let's look at some examples of filter characteristics."
   ]
  },
  {
   "cell_type": "markdown",
   "id": "4cab6f95-c5bf-48d6-9f73-02bbfcac6015",
   "metadata": {},
   "source": [
    "<!-- ![signal_bode.jpg](signal_bode.jpg) -->\n",
    "<center><img src=\"images/signal_bode.jpg\" width=600></center>"
   ]
  },
  {
   "cell_type": "markdown",
   "id": "821b5a76-65c4-4dc7-9fae-93493d48861e",
   "metadata": {},
   "source": [
    "Here the blue trace shows the power spectrum for the unfiltered signal. The red trace shows a lowpass-filtered version of the signal with a cutoff frequency of 30 Hz. The green trace shows a low-pass with a cutoff frequency of 130 Hz. Also notice that the roll-off of the 30 Hz lowpass is not as great as for the 130 Hz lowpass, which has a higher roll-off.\n",
    "\n",
    "Here are the corresponding signals shown in the time-domain:\n",
    "\n",
    "![signal_bodetime.jpg](images/signal_bodetime.jpg)\n",
    "<!-- <img src=\"signal_bodetime.jpg\" width=400> -->"
   ]
  },
  {
   "cell_type": "markdown",
   "id": "c8cdf48c-7229-41d2-babc-a30c856f050a",
   "metadata": {},
   "source": [
    "So we see a very good example of how low-pass filtering can be used very effectively to filter out random noise. Key is the appropriate choice of cut-off frequency."
   ]
  },
  {
   "cell_type": "markdown",
   "id": "d64e308e-16bc-4692-9aa4-9b5ef90011de",
   "metadata": {},
   "source": [
    "### Common Filters\n",
    "\n",
    "There are many different designs of filters, each with their own characteristics (gain, phase and delay characteristics). Some common types:\n",
    "\n",
    "*   **Butterworth Filters** have frequency responses which are maximally flat and have a monotonic roll-off. They are well behaved and this makes them very popular choices for simple filtering applications. For example in my work I use them exlusively for filtering physiological signals. MATLAB has a built-in function called `butter()` that implements the butterworth filter.\n",
    "*   **Tschebyschev Filters** provide a steeper monotonic roll-off, but at the expense of some ripple (oscillatory noise) in the pass-band.\n",
    "*   **Cauer Filters** provide a sharper roll-off still, but at the expense of ripple in both the pass-band and the stop-band, and reduced stop-band attenuation.\n",
    "*   **Bessel Filters** have a phase-shift which is linear with frequency in the pass-band. This corresponds to a pure delay and so Bessel filters preserve the shape of the signal quite well. The roll-off is monotonic and approaches the same slope as the Butterworth and Tschebyschev filters at high frequencies although it has a more gentle roll-off near the corner frequency."
   ]
  },
  {
   "cell_type": "markdown",
   "id": "78116220-baa5-473f-9333-fad217a52eb9",
   "metadata": {},
   "source": [
    "### Filter order\n",
    "\n",
    "In [filter design](http://en.wikipedia.org/wiki/Filter_design) the **order** of a filter is one characteristic that you might come across. Technically the definition of the filter order is the highest exponent in the [z-domain](http://en.wikipedia.org/wiki/Z-transform) ([transfer function](http://en.wikipedia.org/wiki/Transfer_function)) of a [digital filter](http://en.wikipedia.org/wiki/Digital_filter). That's helpful isn't it! (not) Another way of describing filter order is the degree of the approximating polynomial for the filter. Yet another way of describing it is that increasing the filter order increases roll-off and brings the filter closer to the ideal response (i.e. a \"brick wall\" roll-off).\n",
    "\n",
    "Practically speaking, you will find that a second-order butterworth filter provides a nice sharp roll-off without too much undesirable side-effects (e.g. large time lag, ripple in the pass-band, etc).\n",
    "\n",
    "See [this section](http://en.wikipedia.org/wiki/Low-pass_filter#Continuous-time_low-pass_filters) of the wikipedia page on low-pass filters for another description."
   ]
  },
  {
   "cell_type": "markdown",
   "id": "482f4175-228d-4a1c-93d3-6b042515f5a1",
   "metadata": {},
   "source": [
    "### Python code for filtering\n",
    "\n",
    "Below is Python code for implementing low-pass, high-pass, band-pass, and band-stop filters using a Butterworth design (more on these terms below)."
   ]
  },
  {
   "cell_type": "code",
   "execution_count": null,
   "id": "5e409da1-4450-46e8-b996-bd29de8aa903",
   "metadata": {},
   "outputs": [],
   "source": [
    "def lowpass(y, samprate, cutoff, order=2):\n",
    "    w = cutoff / (samprate / 2) # Normalize the cutoff frequency\n",
    "    b, a = sp.signal.butter(N=order, Wn=w, btype='lowpass') # get the filter coefficients\n",
    "    yf = sp.signal.filtfilt(b, a, y) # perform the filtering\n",
    "    return yf\n",
    "\n",
    "def highpass(y, samprate, cutoff, order=2):\n",
    "    w = cutoff / (samprate / 2) # Normalize the cutoff frequency\n",
    "    b, a = sp.signal.butter(N=order, Wn=w, btype='highpass') # get the filter coefficients\n",
    "    yf = sp.signal.filtfilt(b, a, y) # perform the filtering\n",
    "    return yf\n",
    "\n",
    "def bandpass(y, samprate, cutoffs, order=2):\n",
    "    cutoffs = np.array(cutoffs)\n",
    "    w = cutoffs / (samprate / 2) # Normalize the cutoff frequencies\n",
    "    b, a = sp.signal.butter(N=order, Wn=w, btype='bandpass') # get the filter coefficients\n",
    "    yf = sp.signal.filtfilt(b, a, y) # perform the filtering\n",
    "    return yf\n",
    "\n",
    "def bandstop(y, samprate, cutoffs, order=2):\n",
    "    cutoffs = np.array(cutoffs)\n",
    "    w = cutoffs / (samprate / 2) # Normalize the cutoff frequencies\n",
    "    b, a = sp.signal.butter(N=order, Wn=w, btype='bandstop') # get the filter coefficients\n",
    "    yf = sp.signal.filtfilt(b, a, y) # perform the filtering\n",
    "    return yf"
   ]
  },
  {
   "cell_type": "markdown",
   "id": "bc0167ad-989b-48ca-9a7b-d1f640110aea",
   "metadata": {},
   "source": [
    "### Application: high-frequency noise and taking derivatives\n",
    "\n",
    "One of the characteristics of just about any experimental measurement is that the signal that you measure with your instrument will contain a combination of true signal and \"noise\" (random variations in the signal). A common approach is to take many measurements and average them together. This is what is commonly done in EEG/ERP studies, in EMG studies, with spike-triggered averaging, and many others. The idea is that if the \"real\" part of the signal is constant over trials, and the \"noise\" part of the signal is random from trial to trial, then averaging over many trials will average out the noise (which is sometimes positive, sometimes negative, but on balance, zero) and what remains will be the true signal.\n",
    "\n",
    "You can imagine however that there are downsides to this approach. First of all, it requires that many, many measures be taken so that averages can be computed. Second, there is no guarantee that the underlying \"true\" signal will in fact remain constant over those many measurements. Third, one cannot easily do analyses on single trials, since we have to wait for the average before we can look at the data.\n",
    "\n",
    "One solution is to use signal processing techniques such as **filtering** to separate the noise from the signal. A limitation of this technique however is that when we apply a filter (for example a low-pass filter), we filter out **all** power in the signal above the cutoff frequency — whether \"real\" signal or noise. This approach thus assumes that we are fairly certain that the power above our cutoff is of no interest to us.\n",
    "\n",
    "One salient reason to low-pass filter a signal, and remove high-frequency noise, is for cases in which we are interested in taking the temporal derivative of a signal. For example, let's say we have recorded the position of the fingertip as a subject reaches from a start position on a tabletop, to a target located in front of them on a computer screen. Using a device like Optotrak we can record the (x, y, z) coordinates of the fingertip at a sampling rate of 200 Hz. Below is an example using simulated data of such a recording\n",
    "\n",
    "In the cell below, we create the simulated data:"
   ]
  },
  {
   "cell_type": "code",
   "execution_count": null,
   "id": "f00a6a1b-6527-4e50-9263-b2861f92b326",
   "metadata": {},
   "outputs": [],
   "source": [
    "# Simulate \"position\" signal with some noise \n",
    "t = np.linspace(0, 600, 601)\n",
    "mu = 250\n",
    "sigma = 25\n",
    "x_dot = 2 * np.exp((t - mu)**2 / (-2 * sigma**2))\n",
    "pos = np.cumsum(x_dot) + np.random.random(size=len(t)) * 0.25"
   ]
  },
  {
   "cell_type": "markdown",
   "id": "1b06b704-cc69-482a-8521-8078e1b1ba47",
   "metadata": {},
   "source": [
    "Next, we plot the data:"
   ]
  },
  {
   "cell_type": "code",
   "execution_count": null,
   "id": "8aea3820-0f24-4586-9072-d68ed65dbf50",
   "metadata": {},
   "outputs": [],
   "source": [
    "# Plot unfiltered signal and derivatives\n",
    "fig, axs = plt.subplots(3, 1, figsize=(8, 10), sharex=True)\n",
    "axs[0].plot(t, pos, c=\"b\")\n",
    "axs[1].plot(t[0:-1], np.diff(pos), c=\"b\")\n",
    "axs[2].plot(t[0:-2], np.diff(np.diff(pos)), c=\"b\")\n",
    "\n",
    "axs[0].set_ylabel(\"Position (mm)\")\n",
    "axs[1].set_ylabel(\"Velocity (mm/s)\")\n",
    "axs[2].set_ylabel(\"Acceleration ($mm/s^2$)\")\n",
    "axs[2].set_xlabel(\"Samples (200 Hz)\")\n",
    "\n",
    "fig.suptitle(\"Position and its first two derivatives\")\n",
    "plt.tight_layout()"
   ]
  },
  {
   "cell_type": "markdown",
   "id": "6e38dc3c-c7cc-4c93-b298-61de74fab8ec",
   "metadata": {},
   "source": [
    "The top panel shows position in one coordinate over time. The middle panel shows the result of taking the derivative of the position signal to obtain velocity. I have simply used the `diff()` function here to obtain a numerical estimate of the derivative, taking the forward difference. Note how much noisier it looks than the position signal. Finally the bottom panel shows the result of taking the derivative of the velocity signal, to obtain acceleration. It is so noisy one cannot even see the peaks in the acceleration signal, they are completely masked by noise.\n",
    "\n",
    "What is happening here is that small amounts of noise in the position signal are amplified each time a derivative is taken. One solution is to **low-pass filter** the position signal. The choice of the cutoff frequency is key — too low and we will decimate the signal itself, and too high and we will not remove enough of the high frequency noise. It happens that we are fairly certain in this case that there isn't much real signal power above 12 Hz for arm movements. Here is what it looks like when we low-pass filter the position signal at a 12 Hz cutoff frequency:"
   ]
  },
  {
   "cell_type": "code",
   "execution_count": null,
   "id": "5b1ec0d3-4f79-4e8a-8b87-71c4a0052080",
   "metadata": {},
   "outputs": [],
   "source": [
    "# Low-pass filter position signal\n",
    "pos_filt = lowpass(pos, 200, 12)\n",
    "\n",
    "# Plot unfiltered and filtered signals together\n",
    "fig, axs = plt.subplots(3, 1, figsize=(8, 10), sharex=True)\n",
    "axs[0].plot(t, pos, c=\"b\")\n",
    "axs[0].plot(t, pos_filt, c=\"r\")\n",
    "axs[1].plot(t[0:-1], np.diff(pos), c=\"b\")\n",
    "axs[1].plot(t[0:-1], np.diff(pos_filt), c=\"r\")\n",
    "axs[2].plot(t[0:-2], np.diff(np.diff(pos)), c=\"b\")\n",
    "axs[2].plot(t[0:-2], np.diff(np.diff(pos_filt)), c=\"r\")\n",
    "\n",
    "axs[0].set_ylabel(\"Position (mm)\")\n",
    "axs[1].set_ylabel(\"Velocity (mm/s)\")\n",
    "axs[2].set_ylabel(\"Acceleration ($mm/s^2$)\")\n",
    "axs[2].set_ylim([-0.1, 0.1])\n",
    "axs[2].set_xlabel(\"Samples (200 Hz)\")\n",
    "plt.tight_layout()"
   ]
  },
  {
   "cell_type": "markdown",
   "id": "a462fa2d-b9ab-4909-9e9f-ad6defad6481",
   "metadata": {},
   "source": [
    "What you can see is that for the position over time, the filtered version (shown in red) doesn't differ that much, at least not visibly, from the unfiltered version (in blue). The velocity and acceleration traces however look vastly different. Differentiating the filtered position signal yields a velocity trace (shown in red in the middle panel) that is way less noisy than the original version. Taking the derivative again of this new velocity signal yields an acceleration signal (shown in red in the bottom panel) that is actually usable. The original version (shown in blue) is so noisy it overwhelms the entire panel. Note the scale change on the ordinate."
   ]
  },
  {
   "cell_type": "markdown",
   "id": "cf634633-e95e-480f-a955-f8f0ba1527e6",
   "metadata": {},
   "source": [
    "## Quantization\n",
    "\n",
    "Converting an analog signal to a digital form involves the quantization of the analog signal. In this procedure the range of the input variable is divided into a set of class intervals. Quantization involves the replacement of each value of the input variable by the nearest class interval centre.\n",
    "\n",
    "Another way of saying this is that when sampling an analog signal and converting it to digital values, one is limited by the precision with which one can represent the (analog) signal digitally. Usually a piece of hardware called an analog-to-digital (A/D) board is the thing that performs this conversion. The range of A/D boards are usually specified in terms of **bits**. For example a 12-bit A/D board is capable of specifying $2^{12}=4096$ unique values. This means that a continuous signal will be represented using only 4096 possible values. A 16-bit A/D board would be capable of using $2^{16}=65,536$ different values. Obviously the higher the better, in terms of the resolution of the underlying digital representation. Often however in practice, higher resolutions come at the expense of lower sampling rates.\n",
    "\n",
    "As an example, let's look at a continuous signal and its digital representation using a variety of (low) sample resolutions:"
   ]
  },
  {
   "cell_type": "markdown",
   "id": "ec6e438a-3e19-468d-badc-d2d02c9479f8",
   "metadata": {},
   "source": [
    "![signal_quantization.jpg](images/signal_quantization.jpg)\n",
    "\n",
    "<!-- <img src=\"signal_quantization.jpg\" width=400> -->"
   ]
  },
  {
   "cell_type": "markdown",
   "id": "aca9f327-22f6-402d-b490-67c39758fdde",
   "metadata": {},
   "source": [
    "Here we see as the number of possible unique values increases, the digital representation of the underlying continuous signal gets more and more accurate. Also notice that in general, quantization adds noise to the representation of the signal.\n",
    "\n",
    "It is also important to consider the amplitude of the sampled signal compared to the range of the A/D board. In other words, if the signal you are sampling has a very small amplitude compared to the range of the A/D board then essentially your sample will only be occupying a small subset of the total possible values dictated by the resolution of the A/D board, and the effects of quantization will be greatly increased.\n",
    "\n",
    "For example, let's say you are using an A/D board with 12 bits of resolution and an input range of +/- 5 Volts. This means that you have $2^{12}=4096$ possible values with which to characterize a signal that ranges maximally over 10 Volts. If your signal is very small compared to this range, e.g. if it only occupies 25 millivolts, then the A/D board is only capable of using $0.0025/10*4096 = 10$ (ten) unique values to characterize your signal! The resulting digitized characterization of your signal will not be very smooth.\n",
    "\n",
    "Whenever possible, amplify your signal to occupy the maximum range of the A/D board you're using. Of course the trick is always to amplify the signal without also amplifying the noise!"
   ]
  },
  {
   "cell_type": "markdown",
   "id": "d5ccacec-993c-421d-ad06-13f693b7e63a",
   "metadata": {},
   "source": [
    "## Sources of noise\n",
    "\n",
    "It is useful to list a number of common sources of noise in physiological signals:\n",
    "\n",
    "*   **Extraneous Signal Noise** arises when a recording device records more than one signal — i.e. signals in addition to the one you as an experimenter are interested in. It's up to you to decide which is signal and which is noise. For example, electrodes placed on the chest will record both ECG and EMG activity from respiratory muscles. A cardiologist might consider the ECG signal and EMG noise, while a respiratory physiologist might consider the EMG signal and the ECG noise.\n",
    "*   **1/f Noise**: Devices with a DC response sometimes show a low frequency trend appearing on their output even though the inputs don't change. EEG systems and EOG systems often show this behaviour. Fourier analyses show that the amplitude of this noise increases as frequency decreases.\n",
    "*   **Power or 60 Hz Noise** is interference from 60 Hz AC electrical power signals. This is one of the most common noise sources that experimental neurophysiologists have to deal with. Often we find, for example, on hot days when the air conditioning in the building is running, we see much more 60 Hz noise in our EMG signals than on other days. Some neurophysiologists like to do their recordings late at night or on weekends when there is minimal activity on the electrical system in their building.\n",
    "*   **Thermal Noise** arises from the thermal motion of electrons in conductors, is always present and determines the theoretical minimum noise levels for a device. Thermal noise is white (has a Gaussian probability distribution) and thus has a flat frequency content — equal power across all frequencies."
   ]
  },
  {
   "cell_type": "markdown",
   "id": "9d40e820-a80a-4b82-981d-057f20efbf9f",
   "metadata": {},
   "source": [
    "---\n",
    "## Exercises\n",
    "\n",
    "Here is some Python code to generate a complex signal composed of sinusoids at several frequencies. The signal is sampled at 1000 Hz.\n"
   ]
  },
  {
   "cell_type": "code",
   "execution_count": null,
   "id": "8f794ff6-972d-4a56-977a-2d91cbb8114e",
   "metadata": {},
   "outputs": [],
   "source": [
    "t = np.arange(0, 0.5, 1 / 1000)  # 500 ms of time at 1000 Hz\n",
    "y1 = np.sin(2 * np.pi * 30 * t)  # pure sinusoid at  30 Hz\n",
    "y2 = np.sin(2 * np.pi * 60 * t) + np.random.normal(len(t))  # 60 Hz noise  \n",
    "y3 = np.sin(2 * np.pi * 125 * t)  # pure sinusoid at 125 Hz\n",
    "y4 = np.sin(2 * np.pi * 300 * t)  # pure sinusoid at 300 Hz\n",
    "y = y1 + (0.7 * y2) + (0.8 * y3) + (0.9 * y4)"
   ]
  },
  {
   "cell_type": "markdown",
   "id": "747794ee-7747-4bfd-b2b7-6f5288a9ddf2",
   "metadata": {},
   "source": [
    "### Complete the following steps. \n",
    "\n",
    "You may find it covenient to plot everything using subplots. The point of this exercise is to understand at a conceptual level some of the objectives of this chapter, as well as the mechanics of using Python to filter signals. You don't have to worry about all of the ins-and-outs of filtering, but you should understand the outputs of the code and be able to explain what's happening at each stage.  \n",
    "\n",
    "**Step 1.** Plot the signal y in the time domain. Label the axes and include a title.\n",
    "\n",
    "**Step 2.** Plot the magnitude spectrum of y using the scipy.signal.welch() function. Label the axes and include a title.\n",
    "\n",
    "**Step 3.** Highpass filter the signal to remove the 30 Hz component. Plot the filtered signal in the time domain and also plot the magnitude (power) spectrum of the filtered signal. Label the axes and include a title.\n",
    "\n",
    "**Step 4.** Lowpass the filtered signal from 3. to remove the 300 Hz component. Plot the filtered signal in the time domain and also plot the magnitude spectrum of the filtered signal. Label the axes and include a title.\n",
    "\n",
    "**Step 5.** Knock out the 60 Hz noise. Verify the electrical (60 Hz) noise was removed. "
   ]
  },
  {
   "cell_type": "code",
   "execution_count": null,
   "id": "76b66773-f856-4e2a-928a-87b1fc537f57",
   "metadata": {},
   "outputs": [],
   "source": [
    "# YOUR ANSWER HERE\n"
   ]
  },
  {
   "cell_type": "markdown",
   "id": "83350e7e-5be1-4e93-ba2f-b4d1ba40ac5b",
   "metadata": {},
   "source": [
    "### Think!\n",
    "\n",
    "What do you notice about the relationship between cut-off frequencies and magnitude spectra, and are you surprised? What's the explanation? What frequency band did you have to use to knock out the 60 Hz noise completely? "
   ]
  },
  {
   "cell_type": "markdown",
   "id": "4f494196-5023-4445-8401-771a201ee7ff",
   "metadata": {},
   "source": [
    "---\n",
    "This <span xmlns:dct=\"http://purl.org/dc/terms/\" href=\"http://purl.org/dc/dcmitype/Text\" rel=\"dct:type\">work</span> is licensed under a [Creative Commons Attribution 4.0 International License](http://creativecommons.org/licenses/by/4.0/)  \n",
    "[![Creative Commons License](http://i.creativecommons.org/l/by/4.0/80x15.png)](http://creativecommons.org/licenses/by/4.0/)  \n",
    "</div>"
   ]
  }
 ],
 "metadata": {
  "kernelspec": {
   "display_name": "jupyter_books",
   "language": "python",
   "name": "jupyter_books"
  },
  "language_info": {
   "codemirror_mode": {
    "name": "ipython",
    "version": 3
   },
   "file_extension": ".py",
   "mimetype": "text/x-python",
   "name": "python",
   "nbconvert_exporter": "python",
   "pygments_lexer": "ipython3",
   "version": "3.10.8"
  }
 },
 "nbformat": 4,
 "nbformat_minor": 5
}
