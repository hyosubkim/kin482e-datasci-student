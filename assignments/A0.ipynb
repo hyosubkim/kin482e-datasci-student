{
 "cells": [
  {
   "cell_type": "markdown",
   "id": "4ab95aa7-f9ea-4758-a624-6a028eadb9a1",
   "metadata": {
    "nbgrader": {
     "grade": false,
     "grade_id": "cell-42da0295d72ad961",
     "locked": true,
     "schema_version": 3,
     "solution": false,
     "task": false
    }
   },
   "source": [
    "# Assignment 0: Get to know the KIN 482E tech stack \n",
    "\n",
    "## (Due date: 11:59 p.m., Sunday, September 7)\n",
    "---"
   ]
  },
  {
   "cell_type": "markdown",
   "id": "ed28f52d-3c0e-453b-bf98-cf538e2f8e30",
   "metadata": {
    "nbgrader": {
     "grade": false,
     "grade_id": "cell-ac889a139769592f",
     "locked": true,
     "points": 1,
     "schema_version": 3,
     "solution": false,
     "task": true
    }
   },
   "source": [
    "## Canvas\n",
    "\n",
    "### Task 1: Submit a message introducing yourself. \n",
    "\n",
    "Let us know where you are at in the program, and tell us something you'd like to share about your academic background (e.g., your concentration, past programming experience, prior research experience, whatever!). \n",
    "\n",
    "Canvas will serve as our \"home base\" for the course. This is where assignments, updates, lecture notes, etc. will be posted."
   ]
  },
  {
   "cell_type": "markdown",
   "id": "42f70693-ebaf-4b96-89c9-30ae9f3ef6e9",
   "metadata": {
    "nbgrader": {
     "grade": false,
     "grade_id": "cell-15a37f769972e455",
     "locked": true,
     "schema_version": 3,
     "solution": false,
     "task": false
    }
   },
   "source": [
    "---\n",
    "## DataCamp\n",
    "\n",
    "### Task 2: [Log on to DataCamp](https://www.datacamp.com/) and get your account set up.\n",
    "\n",
    "The teaching team can add you to DataCamp using the UBC email address you provide to us. You will get an invitation link from DataCamp to finish setting up your account. \n",
    "\n",
    "Your \"home base\" on DataCamp is the Assignments page:\n",
    "\n",
    "![](../images/datacamp_assignments.png)\n",
    "\n",
    "From here you can click on any of the assignments to start them.\n",
    "\n",
    "However, sometimes you may get lost navigating DataCamp. In particular, if you click on the DataCamp symbol or Home in the upper left, it will take you to the wider world of DataCamp. You're welcome to explore there, although it's beyond what you need for the class. If you do explore, remember to click on Learn (from upper left menu bar) and then Assignments in the left side menu to take you back.\n",
    "\n",
    "---"
   ]
  },
  {
   "cell_type": "markdown",
   "id": "8fee8ac4-708a-4102-8e37-119044418f54",
   "metadata": {
    "nbgrader": {
     "grade": false,
     "grade_id": "cell-673b8010316b9f1e",
     "locked": true,
     "schema_version": 3,
     "solution": false,
     "task": false
    }
   },
   "source": [
    "## JupyterHub and Jupyter Notebooks\n",
    "\n",
    "### Task 3: Access course materials on UBC's JupyterHub.\n",
    "Congratulations! If you're working inside this notebook, you have successfully accessed your UBC JupyterHub account, where you can find all the course materials. If by some unforeseen circumstance you are reading this outside of JupyterHub, go back to the textbook [here](https://hyosubkim.github.io/datasci-for-kin/3-python/jupyter_jhub.html) and follow the steps to access your UBC JupyterHub account. \n",
    "\n",
    "---"
   ]
  },
  {
   "cell_type": "markdown",
   "id": "576c9f09-7eaf-474d-bb24-952512e80ad6",
   "metadata": {},
   "source": [
    "## Markdown\n",
    "\n",
    "### Task 4: Tell us what you hope to get out of the course and what worries you about it. \n",
    "\n",
    "Insert a cell below this one and provide bulleted lists of your top three goals for this class and at least one thing that may concern you. Provide headers for your lists. \n",
    "\n",
    "---"
   ]
  },
  {
   "cell_type": "markdown",
   "id": "d4107add-1f7b-4ad8-9716-475d562558c1",
   "metadata": {
    "nbgrader": {
     "grade": false,
     "grade_id": "cell-aff166f3a1806018",
     "locked": true,
     "schema_version": 3,
     "solution": false,
     "task": false
    }
   },
   "source": [
    "## Submitting assignments on Canvas\n",
    "\n",
    "### Task 5: Upload this assignment to Canvas.\n",
    "\n",
    "- First, get into the habit of restarting the kernel and running all cells (\"Kernel -> Restart the Kernel and Run All Cells...\") to make sure your notebook runs without any errors. Even though there's no Python code in this notebook (it's all Markdown), it's still good practice. \n",
    "- Next, after confirming everything runs as expected (and saving again, if necessary), download the notebook to your computer.\n",
    "- The last step is uploading the notebook from your computer to the correct Assignment on Canvas. \n",
    "\n",
    "Once you've completed this final task, you should now understand the workflow for this course--nice job!"
   ]
  },
  {
   "cell_type": "markdown",
   "id": "ab9f58f1-a0b9-44a4-b7aa-5eda0651934e",
   "metadata": {},
   "source": [
    "---\n",
    "This assignment was adapted from [Aaron J. Newman's course on Neural Data Science](https://github.com/DalPsychNeuro/NESC_3505) and is shared under a GNU General Public License v3.0.  "
   ]
  }
 ],
 "metadata": {
  "kernelspec": {
   "display_name": "Python 3 (ipykernel)",
   "language": "python",
   "name": "python3"
  },
  "language_info": {
   "codemirror_mode": {
    "name": "ipython",
    "version": 3
   },
   "file_extension": ".py",
   "mimetype": "text/x-python",
   "name": "python",
   "nbconvert_exporter": "python",
   "pygments_lexer": "ipython3",
   "version": "3.10.14"
  }
 },
 "nbformat": 4,
 "nbformat_minor": 5
}
